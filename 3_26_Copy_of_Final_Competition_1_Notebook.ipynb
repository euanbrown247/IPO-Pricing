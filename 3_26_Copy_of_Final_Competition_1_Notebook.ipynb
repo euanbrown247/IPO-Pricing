{
  "cells": [
    {
      "cell_type": "markdown",
      "metadata": {
        "id": "BgPAPKPPJtBX",
        "tags": []
      },
      "source": [
        " **Competition 1 Notebook**\n",
        "Team Members: Caroline Donovan, Patrycja Ciemniewska, Euan Brown\n",
        "\n",
        "Professor: Dr. Jie Tao\n",
        "\n",
        "Due Date: 2/23/2023"
      ]
    },
    {
      "cell_type": "markdown",
      "source": [
        "**Goal:** The goal of Competition 1 is to determine, through feature selection, *the best predictive variables for an underpriced IPO*. After preparing the data and engineering additional features, we process the data to handle outliers, we normalize the data, and we scale the data. After completeing the processing, the data is prepared to go through the feature selection process for two targets- Y1 and Y2. The feature selection process returns a bias and a variance score used to determine the best predictors for the two diffetent targets in a Linear Regression model. To take things one step further, we performed this with the Gradient Boosting model as well."
      ],
      "metadata": {
        "id": "xPg4iw86ioR8"
      }
    },
    {
      "cell_type": "markdown",
      "source": [
        "#Section 1: Library & Data Importation 📚\n",
        "\n"
      ],
      "metadata": {
        "id": "AIiUlNvxxWZl"
      }
    },
    {
      "cell_type": "markdown",
      "source": [
        "##Importing Required Libraries"
      ],
      "metadata": {
        "id": "qeSZyyFHyFM-"
      }
    },
    {
      "cell_type": "code",
      "source": [
        "import pandas as pd\n",
        "pd.options.mode.chained_assignment = None  # This was a warning that came up all the time\n",
        "import numpy as np\n",
        "import matplotlib.pyplot as plt\n",
        "import statsmodels.formula.api as smf\n",
        "import statsmodels.stats.api as sms\n",
        "\n",
        "from scipy import stats\n",
        "\n",
        "from sklearn.feature_selection import SelectKBest\n",
        "from sklearn.feature_selection import chi2\n",
        "from sklearn.feature_selection import f_regression\n",
        "from sklearn.feature_selection import RFE\n",
        "from sklearn.linear_model import Ridge\n",
        "from sklearn.linear_model import LogisticRegression\n",
        "from sklearn.ensemble import RandomForestClassifier, ExtraTreesClassifier\n",
        "from sklearn.ensemble import GradientBoostingClassifier\n",
        "from sklearn import model_selection\n",
        "from sklearn.model_selection import cross_val_score\n",
        "from sklearn.model_selection import train_test_split\n",
        "from sklearn import metrics\n",
        "from sklearn.metrics import confusion_matrix\n",
        "from sklearn.metrics import classification_report\n",
        "from sklearn.metrics import roc_auc_score\n",
        "from sklearn.metrics import accuracy_score\n",
        "from sklearn.metrics import precision_recall_fscore_support\n",
        "\n",
        "from collections import Counter\n",
        "\n",
        "from IPython.display import clear_output\n",
        "\n",
        "from imblearn.over_sampling import SMOTE\n",
        "\n",
        "import matplotlib.pyplot as plt\n",
        "import seaborn as sns"
      ],
      "metadata": {
        "id": "HkBwp0ThDy0y"
      },
      "execution_count": null,
      "outputs": []
    },
    {
      "cell_type": "markdown",
      "source": [
        "##Import Data Set"
      ],
      "metadata": {
        "id": "Yu9pBodpyhV3"
      }
    },
    {
      "cell_type": "code",
      "execution_count": null,
      "metadata": {
        "id": "Qd61IaozHdPB",
        "tags": [],
        "colab": {
          "base_uri": "https://localhost:8080/"
        },
        "outputId": "eaa30e3e-7f48-4580-ed45-d2d05a63585c"
      },
      "outputs": [
        {
          "output_type": "stream",
          "name": "stdout",
          "text": [
            "Drive already mounted at /content/drive; to attempt to forcibly remount, call drive.mount(\"/content/drive\", force_remount=True).\n"
          ]
        }
      ],
      "source": [
        "# Connect to google drive\n",
        "from google.colab import drive\n",
        "drive.mount('/content/drive')\n",
        "data = '/content/drive/MyDrive/Classroom/DATA 6545: Data Science and MLOps SP2023/Caroline Donovan - Competition1_raw_data.xlsx'\n",
        "\n",
        "# Load data and replace '-' with nan's\n",
        "df = pd.read_excel(data,na_values = '-')\n",
        "\n",
        "# Original data copy\n",
        "df1 = df.copy()"
      ]
    },
    {
      "cell_type": "code",
      "source": [
        "df.isna().mean().plot(kind='bar', color='pink')"
      ],
      "metadata": {
        "colab": {
          "base_uri": "https://localhost:8080/",
          "height": 312
        },
        "id": "LaSkIrWwvraa",
        "outputId": "b471d4f9-8e38-42c5-8b52-c5b58c9785d8"
      },
      "execution_count": null,
      "outputs": [
        {
          "output_type": "execute_result",
          "data": {
            "text/plain": [
              "<AxesSubplot:>"
            ]
          },
          "metadata": {},
          "execution_count": 106
        },
        {
          "output_type": "display_data",
          "data": {
            "text/plain": [
              "<Figure size 432x288 with 1 Axes>"
            ],
            "image/png": "[encoded data removed]"
          },
          "metadata": {
            "needs_background": "light"
          }
        }
      ]
    },
    {
      "cell_type": "markdown",
      "source": [
        "#Section 2: Data Preparation"
      ],
      "metadata": {
        "id": "MazXgis3yNf0"
      }
    },
    {
      "cell_type": "markdown",
      "source": [
        "##Assumptions\n",
        "\n",
        "\n"
      ],
      "metadata": {
        "id": "7tvX5NWR0J3k"
      }
    },
    {
      "cell_type": "code",
      "execution_count": null,
      "metadata": {
        "id": "lGmQJlzuHdPC",
        "tags": []
      },
      "outputs": [],
      "source": [
        "###ASSUMPTION: P(1DAY) is an important attribute, if it is missing drop row.\n",
        "# Remove all records that do not have a P(1Day)\n",
        "df = df[~df['P(1Day)'].isna()].reset_index()\n",
        "\n",
        "###ASSUMPTION: P(H) needs to be higher than P(L)\n",
        "# Flip values if P(H) < P(L)\n",
        "df['P(H)'], df['P(L)'] = np.where(df['P(H)'] < df['P(L)'], [df['P(L)'], df['P(H)']], [df['P(H)'], df['P(L)']])\n",
        "\n",
        "###ASSUMPTION: T2 needs to be greater than T3\n",
        "# If words is less than real words use real words\n",
        "df['T2'] = np.where(df['T2']<df['T3'],df['T3'],df['T2'])\n",
        "\n",
        "###ASSUMPTION: Acceptable values for 'C5','C6','T1','T3' positive & not 0.\n",
        "for col in df[['C5','C6','T1','T3']].columns:\n",
        "    df[col] = np.where(df[col] > 0 ,df[col],np.NaN)\n",
        "\n",
        "###ASSUMPTION: Acceptable values for 'S1','S2','S3','T4','T5','C1 positive & 0.\n",
        "for col in df[['S1','S2','S3','T4','T5','C1']].columns:\n",
        "    df[col] = np.where(df[col] >= 0 ,df[col],np.NaN)\n"
      ]
    },
    {
      "cell_type": "code",
      "source": [],
      "metadata": {
        "id": "125gUI4u5hhT"
      },
      "execution_count": null,
      "outputs": []
    },
    {
      "cell_type": "markdown",
      "metadata": {
        "id": "aYv5f3k28LBl",
        "tags": []
      },
      "source": [
        "## Continous Variables"
      ]
    },
    {
      "cell_type": "code",
      "execution_count": null,
      "metadata": {
        "id": "q2WZ6Qcp8J2n",
        "tags": []
      },
      "outputs": [],
      "source": [
        "#Define dataframe with continuous variables\n",
        "df_cont = df[['C1', 'C3', 'C4', 'C5','C6',\n",
        "              'T1','T2','T3', 'T4', 'T5',\n",
        "              'S1','S2','S3', 'C7']]\n",
        "\n",
        "#Impute df_cont misisng\n",
        "for col in df_cont:\n",
        "  df[col] = df_cont[col].fillna(df_cont[col].median())\n",
        "\n",
        "for col in df_cont:\n",
        "  df_cont[col] = df_cont[col].fillna(df_cont[col].median())"
      ]
    },
    {
      "cell_type": "markdown",
      "metadata": {
        "id": "ZucS3AUaTDam",
        "tags": []
      },
      "source": [
        "#Section 3: Feature Engineering 🧰"
      ]
    },
    {
      "cell_type": "markdown",
      "source": [
        "Note: The following features were converted into categorical features: EPS (C3) and Sales (C7). With our background, we agreed that the most important element of these two columns is whether the company was operating at a profit or a loss prior to their IPO- by how much did not matter."
      ],
      "metadata": {
        "id": "x51rVcZup7L5"
      }
    },
    {
      "cell_type": "code",
      "execution_count": null,
      "metadata": {
        "id": "xqxFJRz_rL-B",
        "tags": []
      },
      "outputs": [],
      "source": [
        "# Define C3 as binary, positive or negative\n",
        "df['bin_EPS'] = np.where(df['C3'] >=0,1,0)\n",
        "\n",
        "# Define C7 as binary, positive or negative\n",
        "df['bin_sales'] = np.where(df['C7'] >=0,1,0)"
      ]
    },
    {
      "cell_type": "code",
      "source": [
        "#Convert type to category to conserve memory\n",
        "df['bin_EPS'] = df['bin_EPS'].astype('category')\n",
        "df['bin_sales'] = df['bin_sales'].astype('category')"
      ],
      "metadata": {
        "id": "1-2NAyMi7kAW"
      },
      "execution_count": null,
      "outputs": []
    },
    {
      "cell_type": "code",
      "source": [
        "# Define P(mid), the mean of P(L) and P(H)\n",
        "df['P(mid)'] = (df['P(H)'] + df['P(L)'])/2\n",
        "\n",
        "# Define c3~,\n",
        "df['C3~'] = np.where(df['C3']>0,1,0)\n",
        "\n",
        "# Define c5~,\n",
        "df['C5~'] = df['C5']/df['C6']\n",
        "df_cont['C5~'] = df['C5~']\n",
        "\n",
        "# Define P(mid%),\n",
        "df['P(mid%)'] = (df['P(IPO)'] - df['P(mid)']) / (df['P(mid)']) * 100\n",
        "\n",
        "#Define C6~,\n",
        "df['C6~'] = np.where(df['P(IPO)'] > df['P(mid)'],df['P(mid%)'],0)\n",
        "df_cont['C6~'] = df['C6~']\n",
        "\n",
        "# Drop P(mid%)- no longer needed\n",
        "df = df.drop('P(mid%)',axis=1)"
      ],
      "metadata": {
        "id": "3Rxp-zf6qO0J"
      },
      "execution_count": null,
      "outputs": []
    },
    {
      "cell_type": "code",
      "source": [
        "#Define industry, binary: tech or not tech\n",
        "df['I3'] = df['I3'].astype(str)\n",
        "df['I3tech'] = np.where((df['I3'].str[:2]== '73') | (df['I3'].str[:2]=='37'), 1, 0)\n",
        "df['I3tech'].value_counts()"
      ],
      "metadata": {
        "colab": {
          "base_uri": "https://localhost:8080/"
        },
        "id": "E9nhYTPphrBO",
        "outputId": "444c2d09-584e-420b-9d2b-50a6315b9a3c"
      },
      "execution_count": null,
      "outputs": [
        {
          "output_type": "execute_result",
          "data": {
            "text/plain": [
              "0    501\n",
              "1    159\n",
              "Name: I3tech, dtype: int64"
            ]
          },
          "metadata": {},
          "execution_count": 112
        }
      ]
    },
    {
      "cell_type": "code",
      "execution_count": null,
      "metadata": {
        "id": "cP9Q_mFm_XzB",
        "tags": []
      },
      "outputs": [],
      "source": [
        "# Define a ratio for Number of positive words / number of total words\n",
        "df['pos_word_ratio'] = df['S1'] / df['T2']\n",
        "\n",
        "# Define a ratio for Number of negative words / number of total words\n",
        "df['neg_word_ratio'] = df['S2'] / df['T2']\n",
        "\n",
        "# Define a ratio for Sales / number of shares outstanding\n",
        "df['sales_share_ratio'] = df['C7'] / df['C5']\n",
        "\n",
        "# Define a ratio for Number of shares offered / number of shares outstanding\n",
        "df['sharesoff_shareout_ratio'] = df['C6'] / df['C5']\n",
        "\n",
        "# Dropping continuous features used in feature engineering to ensure they are\n",
        "    # not processed twice\n",
        "df_cont = df_cont.drop(['S1','S2','T1','T2','C5','C6', 'C7', 'C3'],axis=1)"
      ]
    },
    {
      "cell_type": "code",
      "source": [
        "#Define two targets- Y1, Y2\n",
        "#Define Y1, Pre-IPO Price Revision\n",
        "df['Y1'] = np.where((df['P(IPO)'] < df['P(mid)']),1,0)\n",
        "\n",
        "# Define Y2,  Post-IPO Initial Return\n",
        "df['Y2'] = np.where((df['P(IPO)'] < df['P(1Day)']),1,0)"
      ],
      "metadata": {
        "id": "PE2RVrnkqn2h"
      },
      "execution_count": null,
      "outputs": []
    },
    {
      "cell_type": "code",
      "execution_count": null,
      "metadata": {
        "id": "vVdVQFVH4bkn"
      },
      "outputs": [],
      "source": [
        "#Create a categorical dataframe including new bins\n",
        "df_cat = df[['C2',\n",
        "             'C3~',\n",
        "             'bin_EPS' , 'bin_sales', 'I3tech']]\n",
        "\n",
        "#Create a prices dataframe\n",
        "df_price = df[['P(IPO)','P(H)','P(L)', 'P(1Day)']]\n",
        "\n",
        "#Create a targets dataframe\n",
        "df_target = df[['Y1', 'Y2']]\n",
        "\n",
        "#Create a ratios dataframe\n",
        "df_ratios = df[['pos_word_ratio','neg_word_ratio',\n",
        "                'sales_share_ratio','sharesoff_shareout_ratio']]"
      ]
    },
    {
      "cell_type": "code",
      "source": [
        "#Use function normminmax on ratio dataframe\n",
        "def normminmax(col):\n",
        "    return (col - np.min(col)) / (np.max(col) - np.min(col))\n",
        "\n",
        "#Use function posify on ratio dataframe\n",
        "def posify(col):\n",
        "  poscol = col + abs(col.min()) + 1\n",
        "  return poscol\n",
        "\n",
        "#Apply posify on ratios dataframe\n",
        "for col in df_ratios.columns:\n",
        "  df_ratios[col] = posify(df_ratios[col])\n",
        "\n",
        "#Apply normminmax on ratios dataframe\n",
        "for col in df_ratios.columns:\n",
        "  df_ratios[col] = normminmax(df_ratios[col])"
      ],
      "metadata": {
        "id": "DgeI_BVsetvv"
      },
      "execution_count": null,
      "outputs": []
    },
    {
      "cell_type": "markdown",
      "source": [
        "#Section 4: Visualization Before Processing"
      ],
      "metadata": {
        "id": "tFNr9cQ0mvg1"
      }
    },
    {
      "cell_type": "markdown",
      "source": [
        "###Skewness:"
      ],
      "metadata": {
        "id": "4hIM4pBBnBWT"
      }
    },
    {
      "cell_type": "code",
      "source": [
        "df_cont.skew().plot(kind='bar', color='thistle')\n",
        "#### Set the title of the visualization\n",
        "plt.title('Continuous Column Skewness Before Processing')\n",
        "\n",
        "#### Set the y-axis\n",
        "plt.ylabel(\"Skewness\")\n",
        "\n",
        "#### Set the x-axis\n",
        "plt.xlabel(\"Column\");"
      ],
      "metadata": {
        "colab": {
          "base_uri": "https://localhost:8080/",
          "height": 307
        },
        "id": "SN8cknl-mutJ",
        "outputId": "276c2f4f-bd39-495c-c8b4-20b82bc1aaf4"
      },
      "execution_count": null,
      "outputs": [
        {
          "output_type": "display_data",
          "data": {
            "text/plain": [
              "<Figure size 432x288 with 1 Axes>"
            ],
            "image/png": "[encoded data removed]"
          },
          "metadata": {
            "needs_background": "light"
          }
        }
      ]
    },
    {
      "cell_type": "markdown",
      "source": [
        "💡Insights:\n",
        "Skewness is a major problem in this dataset. The skewness will be attacked in some processes by IQR and in others by +/- 3std."
      ],
      "metadata": {
        "id": "Em6bHQuo6EU3"
      }
    },
    {
      "cell_type": "markdown",
      "source": [
        "###Normalization:"
      ],
      "metadata": {
        "id": "UEqUZby4nEto"
      }
    },
    {
      "cell_type": "code",
      "source": [
        "df_cont.hist(color='thistle')"
      ],
      "metadata": {
        "colab": {
          "base_uri": "https://localhost:8080/",
          "height": 437
        },
        "id": "FjrjfOfMm8Jt",
        "outputId": "4a392408-aea0-4ec6-c10d-869838d2d4ad"
      },
      "execution_count": null,
      "outputs": [
        {
          "output_type": "execute_result",
          "data": {
            "text/plain": [
              "array([[<AxesSubplot:title={'center':'C1'}>,\n",
              "        <AxesSubplot:title={'center':'C4'}>,\n",
              "        <AxesSubplot:title={'center':'T3'}>],\n",
              "       [<AxesSubplot:title={'center':'T4'}>,\n",
              "        <AxesSubplot:title={'center':'T5'}>,\n",
              "        <AxesSubplot:title={'center':'S3'}>],\n",
              "       [<AxesSubplot:title={'center':'C5~'}>,\n",
              "        <AxesSubplot:title={'center':'C6~'}>, <AxesSubplot:>]],\n",
              "      dtype=object)"
            ]
          },
          "metadata": {},
          "execution_count": 118
        },
        {
          "output_type": "display_data",
          "data": {
            "text/plain": [
              "<Figure size 432x288 with 9 Axes>"
            ],
            "image/png": "[encoded data removed]"
          },
          "metadata": {
            "needs_background": "light"
          }
        }
      ]
    },
    {
      "cell_type": "markdown",
      "source": [
        "💡Insights:\n",
        "With a combination of left and right skewness, there is work to be done to move the data towards a Gaussian Distribution. The scales vary significantly feature to feature."
      ],
      "metadata": {
        "id": "hy1g1ikz6RBi"
      }
    },
    {
      "cell_type": "markdown",
      "source": [
        "###Boxplot:"
      ],
      "metadata": {
        "id": "smgi0XZCnIf4"
      }
    },
    {
      "cell_type": "code",
      "source": [
        "df_cont.boxplot(color='thistle')"
      ],
      "metadata": {
        "colab": {
          "base_uri": "https://localhost:8080/",
          "height": 282
        },
        "id": "ID06a9Wem_Rz",
        "outputId": "dc6375a9-c9ab-44a9-8b37-d74cbebd0304"
      },
      "execution_count": null,
      "outputs": [
        {
          "output_type": "execute_result",
          "data": {
            "text/plain": [
              "<AxesSubplot:>"
            ]
          },
          "metadata": {},
          "execution_count": 119
        },
        {
          "output_type": "display_data",
          "data": {
            "text/plain": [
              "<Figure size 432x288 with 1 Axes>"
            ],
            "image/png": "[encoded data removed]"
          },
          "metadata": {
            "needs_background": "light"
          }
        }
      ]
    },
    {
      "cell_type": "markdown",
      "source": [
        "💡Insights:\n",
        "While not much can be determined from this boxplot, this gives us a basis of how important range is for each of these features."
      ],
      "metadata": {
        "id": "sbuG80SF6hAv"
      }
    },
    {
      "cell_type": "markdown",
      "source": [
        "###Missingness"
      ],
      "metadata": {
        "id": "SjqTCWS_wLRq"
      }
    },
    {
      "cell_type": "code",
      "source": [
        "#No missingness moving into the processing stage\n",
        "df.isna().mean().plot(kind='bar', color='thistle')"
      ],
      "metadata": {
        "colab": {
          "base_uri": "https://localhost:8080/",
          "height": 396
        },
        "id": "n5p6OifowMTI",
        "outputId": "2ff76e68-5b50-4b83-a438-eacd54e6f24d"
      },
      "execution_count": null,
      "outputs": [
        {
          "output_type": "execute_result",
          "data": {
            "text/plain": [
              "<AxesSubplot:>"
            ]
          },
          "metadata": {},
          "execution_count": 120
        },
        {
          "output_type": "display_data",
          "data": {
            "text/plain": [
              "<Figure size 432x288 with 1 Axes>"
            ],
            "image/png": "[encoded data removed]"
          },
          "metadata": {
            "needs_background": "light"
          }
        }
      ]
    },
    {
      "cell_type": "markdown",
      "source": [
        "💡Insights:\n",
        "Note that all missing values have been imputed."
      ],
      "metadata": {
        "id": "glCQScJL6td-"
      }
    },
    {
      "cell_type": "markdown",
      "source": [
        "###Correlation:"
      ],
      "metadata": {
        "id": "WklzUibVDmpm"
      }
    },
    {
      "cell_type": "code",
      "source": [
        "#Show correlation\n",
        "mask = np.triu(np.ones_like(df_cont.corr(), dtype=bool))\n",
        "sns.heatmap(df_cont.corr(), vmin=-1, vmax=1, annot=True, mask=mask);"
      ],
      "metadata": {
        "colab": {
          "base_uri": "https://localhost:8080/",
          "height": 269
        },
        "id": "PcBjHc4iDpvA",
        "outputId": "7b0c54d8-562f-429d-f70b-477a23b67efb"
      },
      "execution_count": null,
      "outputs": [
        {
          "output_type": "display_data",
          "data": {
            "text/plain": [
              "<Figure size 432x288 with 2 Axes>"
            ],
            "image/png": "[encoded data removed]"
          },
          "metadata": {
            "needs_background": "light"
          }
        }
      ]
    },
    {
      "cell_type": "markdown",
      "source": [
        "💡Insights:\n",
        "We can see from this correlation visual that S3 is highly correlated with the T features. This makes sense because they are all textual characteristics."
      ],
      "metadata": {
        "id": "4a3P1FFRDzF-"
      }
    },
    {
      "cell_type": "code",
      "source": [
        "#Check info before processing\n",
        "df.info()"
      ],
      "metadata": {
        "colab": {
          "base_uri": "https://localhost:8080/"
        },
        "id": "2rsw0tuL611H",
        "outputId": "61e44f8c-bd06-4828-92c3-3040d0132db2"
      },
      "execution_count": null,
      "outputs": [
        {
          "output_type": "stream",
          "name": "stdout",
          "text": [
            "<class 'pandas.core.frame.DataFrame'>\n",
            "RangeIndex: 660 entries, 0 to 659\n",
            "Data columns (total 36 columns):\n",
            " #   Column                    Non-Null Count  Dtype   \n",
            "---  ------                    --------------  -----   \n",
            " 0   index                     660 non-null    int64   \n",
            " 1   I1                        660 non-null    object  \n",
            " 2   I2                        660 non-null    object  \n",
            " 3   I3                        660 non-null    object  \n",
            " 4   P(IPO)                    660 non-null    float64 \n",
            " 5   P(H)                      660 non-null    float64 \n",
            " 6   P(L)                      660 non-null    float64 \n",
            " 7   P(1Day)                   660 non-null    float64 \n",
            " 8   C1                        660 non-null    float64 \n",
            " 9   C2                        660 non-null    float64 \n",
            " 10  C3                        660 non-null    float64 \n",
            " 11  C4                        660 non-null    float64 \n",
            " 12  C5                        660 non-null    float64 \n",
            " 13  C6                        660 non-null    float64 \n",
            " 14  C7                        660 non-null    float64 \n",
            " 15  T1                        660 non-null    float64 \n",
            " 16  T2                        660 non-null    float64 \n",
            " 17  T3                        660 non-null    float64 \n",
            " 18  T4                        660 non-null    float64 \n",
            " 19  T5                        660 non-null    float64 \n",
            " 20  S1                        660 non-null    float64 \n",
            " 21  S2                        660 non-null    float64 \n",
            " 22  S3                        660 non-null    float64 \n",
            " 23  bin_EPS                   660 non-null    category\n",
            " 24  bin_sales                 660 non-null    category\n",
            " 25  P(mid)                    660 non-null    float64 \n",
            " 26  C3~                       660 non-null    int64   \n",
            " 27  C5~                       660 non-null    float64 \n",
            " 28  C6~                       660 non-null    float64 \n",
            " 29  I3tech                    660 non-null    int64   \n",
            " 30  pos_word_ratio            660 non-null    float64 \n",
            " 31  neg_word_ratio            660 non-null    float64 \n",
            " 32  sales_share_ratio         660 non-null    float64 \n",
            " 33  sharesoff_shareout_ratio  660 non-null    float64 \n",
            " 34  Y1                        660 non-null    int64   \n",
            " 35  Y2                        660 non-null    int64   \n",
            "dtypes: category(2), float64(26), int64(5), object(3)\n",
            "memory usage: 177.0+ KB\n"
          ]
        }
      ]
    },
    {
      "cell_type": "code",
      "source": [
        "#Showing df_cont before processing\n",
        "df_cont.describe().T"
      ],
      "metadata": {
        "colab": {
          "base_uri": "https://localhost:8080/",
          "height": 300
        },
        "id": "NaQiLxId7_3v",
        "outputId": "59ce74c4-d818-446a-973e-8c6f24bd4724"
      },
      "execution_count": null,
      "outputs": [
        {
          "output_type": "execute_result",
          "data": {
            "text/plain": [
              "     count          mean          std          min          25%           50%  \\\n",
              "C1   660.0    149.728788   152.817467    10.000000    85.000000    107.000000   \n",
              "C4   660.0      0.007282     0.033318    -0.162352    -0.013927      0.009125   \n",
              "T3   660.0  11512.684848  4805.379756  3003.000000  8297.000000  10844.000000   \n",
              "T4   660.0    295.957576   122.172959     0.000000   214.000000    280.000000   \n",
              "T5   660.0    670.842424   297.125014   167.000000   464.000000    627.000000   \n",
              "S3   660.0    145.516667    69.824545    40.000000   100.000000    135.000000   \n",
              "C5~  660.0      4.417255     5.133537     0.283223     2.850622      3.731035   \n",
              "C6~  660.0      5.404645    10.877569     0.000000     0.000000      0.000000   \n",
              "\n",
              "              75%           max  \n",
              "C1     155.250000   2087.000000  \n",
              "C4       0.031571      0.092896  \n",
              "T3   13793.500000  43952.000000  \n",
              "T4     355.250000   1058.000000  \n",
              "T5     801.250000   2729.000000  \n",
              "S3     174.000000    883.000000  \n",
              "C5~      4.857904     99.787255  \n",
              "C6~      7.692308    100.000000  "
            ],
            "text/html": [
              "\n",
              "  <div id=\"df-47575c08-5e9c-4118-8ea8-2cc9d604c53a\">\n",
              "    <div class=\"colab-df-container\">\n",
              "      <div>\n",
              "<style scoped>\n",
              "    .dataframe tbody tr th:only-of-type {\n",
              "        vertical-align: middle;\n",
              "    }\n",
              "\n",
              "    .dataframe tbody tr th {\n",
              "        vertical-align: top;\n",
              "    }\n",
              "\n",
              "    .dataframe thead th {\n",
              "        text-align: right;\n",
              "    }\n",
              "</style>\n",
              "<table border=\"1\" class=\"dataframe\">\n",
              "  <thead>\n",
              "    <tr style=\"text-align: right;\">\n",
              "      <th></th>\n",
              "      <th>count</th>\n",
              "      <th>mean</th>\n",
              "      <th>std</th>\n",
              "      <th>min</th>\n",
              "      <th>25%</th>\n",
              "      <th>50%</th>\n",
              "      <th>75%</th>\n",
              "      <th>max</th>\n",
              "    </tr>\n",
              "  </thead>\n",
              "  <tbody>\n",
              "    <tr>\n",
              "      <th>C1</th>\n",
              "      <td>660.0</td>\n",
              "      <td>149.728788</td>\n",
              "      <td>152.817467</td>\n",
              "      <td>10.000000</td>\n",
              "      <td>85.000000</td>\n",
              "      <td>107.000000</td>\n",
              "      <td>155.250000</td>\n",
              "      <td>2087.000000</td>\n",
              "    </tr>\n",
              "    <tr>\n",
              "      <th>C4</th>\n",
              "      <td>660.0</td>\n",
              "      <td>0.007282</td>\n",
              "      <td>0.033318</td>\n",
              "      <td>-0.162352</td>\n",
              "      <td>-0.013927</td>\n",
              "      <td>0.009125</td>\n",
              "      <td>0.031571</td>\n",
              "      <td>0.092896</td>\n",
              "    </tr>\n",
              "    <tr>\n",
              "      <th>T3</th>\n",
              "      <td>660.0</td>\n",
              "      <td>11512.684848</td>\n",
              "      <td>4805.379756</td>\n",
              "      <td>3003.000000</td>\n",
              "      <td>8297.000000</td>\n",
              "      <td>10844.000000</td>\n",
              "      <td>13793.500000</td>\n",
              "      <td>43952.000000</td>\n",
              "    </tr>\n",
              "    <tr>\n",
              "      <th>T4</th>\n",
              "      <td>660.0</td>\n",
              "      <td>295.957576</td>\n",
              "      <td>122.172959</td>\n",
              "      <td>0.000000</td>\n",
              "      <td>214.000000</td>\n",
              "      <td>280.000000</td>\n",
              "      <td>355.250000</td>\n",
              "      <td>1058.000000</td>\n",
              "    </tr>\n",
              "    <tr>\n",
              "      <th>T5</th>\n",
              "      <td>660.0</td>\n",
              "      <td>670.842424</td>\n",
              "      <td>297.125014</td>\n",
              "      <td>167.000000</td>\n",
              "      <td>464.000000</td>\n",
              "      <td>627.000000</td>\n",
              "      <td>801.250000</td>\n",
              "      <td>2729.000000</td>\n",
              "    </tr>\n",
              "    <tr>\n",
              "      <th>S3</th>\n",
              "      <td>660.0</td>\n",
              "      <td>145.516667</td>\n",
              "      <td>69.824545</td>\n",
              "      <td>40.000000</td>\n",
              "      <td>100.000000</td>\n",
              "      <td>135.000000</td>\n",
              "      <td>174.000000</td>\n",
              "      <td>883.000000</td>\n",
              "    </tr>\n",
              "    <tr>\n",
              "      <th>C5~</th>\n",
              "      <td>660.0</td>\n",
              "      <td>4.417255</td>\n",
              "      <td>5.133537</td>\n",
              "      <td>0.283223</td>\n",
              "      <td>2.850622</td>\n",
              "      <td>3.731035</td>\n",
              "      <td>4.857904</td>\n",
              "      <td>99.787255</td>\n",
              "    </tr>\n",
              "    <tr>\n",
              "      <th>C6~</th>\n",
              "      <td>660.0</td>\n",
              "      <td>5.404645</td>\n",
              "      <td>10.877569</td>\n",
              "      <td>0.000000</td>\n",
              "      <td>0.000000</td>\n",
              "      <td>0.000000</td>\n",
              "      <td>7.692308</td>\n",
              "      <td>100.000000</td>\n",
              "    </tr>\n",
              "  </tbody>\n",
              "</table>\n",
              "</div>\n",
              "      <button class=\"colab-df-convert\" onclick=\"convertToInteractive('df-47575c08-5e9c-4118-8ea8-2cc9d604c53a')\"\n",
              "              title=\"Convert this dataframe to an interactive table.\"\n",
              "              style=\"display:none;\">\n",
              "        \n",
              "  <svg xmlns=\"http://www.w3.org/2000/svg\" height=\"24px\"viewBox=\"0 0 24 24\"\n",
              "       width=\"24px\">\n",
              "    <path d=\"M0 0h24v24H0V0z\" fill=\"none\"/>\n",
              "    <path d=\"M18.56 5.44l.94 2.06.94-2.06 2.06-.94-2.06-.94-.94-2.06-.94 2.06-2.06.94zm-11 1L8.5 8.5l.94-2.06 2.06-.94-2.06-.94L8.5 2.5l-.94 2.06-2.06.94zm10 10l.94 2.06.94-2.06 2.06-.94-2.06-.94-.94-2.06-.94 2.06-2.06.94z\"/><path d=\"M17.41 7.96l-1.37-1.37c-.4-.4-.92-.59-1.43-.59-.52 0-1.04.2-1.43.59L10.3 9.45l-7.72 7.72c-.78.78-.78 2.05 0 2.83L4 21.41c.39.39.9.59 1.41.59.51 0 1.02-.2 1.41-.59l7.78-7.78 2.81-2.81c.8-.78.8-2.07 0-2.86zM5.41 20L4 18.59l7.72-7.72 1.47 1.35L5.41 20z\"/>\n",
              "  </svg>\n",
              "      </button>\n",
              "      \n",
              "  <style>\n",
              "    .colab-df-container {\n",
              "      display:flex;\n",
              "      flex-wrap:wrap;\n",
              "      gap: 12px;\n",
              "    }\n",
              "\n",
              "    .colab-df-convert {\n",
              "      background-color: #E8F0FE;\n",
              "      border: none;\n",
              "      border-radius: 50%;\n",
              "      cursor: pointer;\n",
              "      display: none;\n",
              "      fill: #1967D2;\n",
              "      height: 32px;\n",
              "      padding: 0 0 0 0;\n",
              "      width: 32px;\n",
              "    }\n",
              "\n",
              "    .colab-df-convert:hover {\n",
              "      background-color: #E2EBFA;\n",
              "      box-shadow: 0px 1px 2px rgba(60, 64, 67, 0.3), 0px 1px 3px 1px rgba(60, 64, 67, 0.15);\n",
              "      fill: #174EA6;\n",
              "    }\n",
              "\n",
              "    [theme=dark] .colab-df-convert {\n",
              "      background-color: #3B4455;\n",
              "      fill: #D2E3FC;\n",
              "    }\n",
              "\n",
              "    [theme=dark] .colab-df-convert:hover {\n",
              "      background-color: #434B5C;\n",
              "      box-shadow: 0px 1px 3px 1px rgba(0, 0, 0, 0.15);\n",
              "      filter: drop-shadow(0px 1px 2px rgba(0, 0, 0, 0.3));\n",
              "      fill: #FFFFFF;\n",
              "    }\n",
              "  </style>\n",
              "\n",
              "      <script>\n",
              "        const buttonEl =\n",
              "          document.querySelector('#df-47575c08-5e9c-4118-8ea8-2cc9d604c53a button.colab-df-convert');\n",
              "        buttonEl.style.display =\n",
              "          google.colab.kernel.accessAllowed ? 'block' : 'none';\n",
              "\n",
              "        async function convertToInteractive(key) {\n",
              "          const element = document.querySelector('#df-47575c08-5e9c-4118-8ea8-2cc9d604c53a');\n",
              "          const dataTable =\n",
              "            await google.colab.kernel.invokeFunction('convertToInteractive',\n",
              "                                                     [key], {});\n",
              "          if (!dataTable) return;\n",
              "\n",
              "          const docLinkHtml = 'Like what you see? Visit the ' +\n",
              "            '<a target=\"_blank\" href=https://colab.research.google.com/notebooks/data_table.ipynb>data table notebook</a>'\n",
              "            + ' to learn more about interactive tables.';\n",
              "          element.innerHTML = '';\n",
              "          dataTable['output_type'] = 'display_data';\n",
              "          await google.colab.output.renderOutput(dataTable, element);\n",
              "          const docLink = document.createElement('div');\n",
              "          docLink.innerHTML = docLinkHtml;\n",
              "          element.appendChild(docLink);\n",
              "        }\n",
              "      </script>\n",
              "    </div>\n",
              "  </div>\n",
              "  "
            ]
          },
          "metadata": {},
          "execution_count": 123
        }
      ]
    },
    {
      "cell_type": "markdown",
      "metadata": {
        "id": "ufXWS1LeBiYu",
        "tags": []
      },
      "source": [
        "\n",
        "#Section 5: Functions Used in Processing"
      ]
    },
    {
      "cell_type": "code",
      "execution_count": null,
      "metadata": {
        "id": "7wZgSi1HB5fI",
        "tags": []
      },
      "outputs": [],
      "source": [
        "\"\"\"\n",
        "  Funtion to make all values positive\n",
        "\"\"\"\n",
        "def posify(col):\n",
        "  poscol = col + abs(col.min()) + 1\n",
        "  return poscol"
      ]
    },
    {
      "cell_type": "code",
      "execution_count": null,
      "metadata": {
        "id": "kmc_TF0Evtw6",
        "tags": []
      },
      "outputs": [],
      "source": [
        "\"\"\"\n",
        "Function to get IQR, lower bound and upper bound from a dataframe column\n",
        "\n",
        "\"\"\"\n",
        "\n",
        "def iqr(x):\n",
        "  q1 = np.nanquantile(x,0.25)\n",
        "  q3 = np.nanquantile(x,0.75)\n",
        "\n",
        "  iqr = q3 - q1\n",
        "  bound_low = q1 - (1.5*iqr)\n",
        "  bound_up = q3 + (1.5*iqr)\n",
        "\n",
        "  return iqr, bound_low, bound_up"
      ]
    },
    {
      "cell_type": "code",
      "execution_count": null,
      "metadata": {
        "id": "ae4MNlZWHdPF",
        "tags": []
      },
      "outputs": [],
      "source": [
        "\"\"\"\n",
        "Remove outliers of column based on iqr\n",
        "\n",
        "\"\"\"\n",
        "\n",
        "def iqrcut(x):\n",
        "  q1 = np.nanquantile(x,0.25)\n",
        "  q3 = np.nanquantile(x,0.75)\n",
        "\n",
        "  iqr = q3 - q1\n",
        "  bound_low = q1 - (1.5*iqr)\n",
        "  bound_up = q3 + (1.5*iqr)\n",
        "\n",
        "  x = np.where(x>bound_up,bound_up,x)\n",
        "  x = np.where(x<bound_low,bound_low,x)\n",
        "  return pd.Series(x)"
      ]
    },
    {
      "cell_type": "code",
      "execution_count": null,
      "metadata": {
        "id": "FUXTrixEHdPG",
        "tags": []
      },
      "outputs": [],
      "source": [
        "\"\"\"\n",
        "remove outliers of column based on 3stdev\n",
        "\n",
        "\"\"\"\n",
        "\n",
        "# *3\n",
        "\n",
        "def stdcut(x):\n",
        "  std3 = x.std()*3\n",
        "\n",
        "  bound_low = x.mean()-std3\n",
        "  bound_up = x.mean()+std3\n",
        "\n",
        "  x = np.where(x>bound_up,bound_up,x)\n",
        "  x = np.where(x<bound_low,bound_low,x)\n",
        "  return pd.Series(x)"
      ]
    },
    {
      "cell_type": "code",
      "execution_count": null,
      "metadata": {
        "id": "GoHtPFHrHdPH",
        "tags": []
      },
      "outputs": [],
      "source": [
        "\"\"\"\n",
        "function to transform column positive then apply box cox\n",
        "\n",
        "\"\"\"\n",
        "\n",
        "def bcox(col):\n",
        "\n",
        "    poscol = col + abs(col.min()) + 1\n",
        "\n",
        "    bcoxcol = stats.boxcox(poscol)\n",
        "\n",
        "    return pd.Series(bcoxcol[0])"
      ]
    },
    {
      "cell_type": "code",
      "execution_count": null,
      "metadata": {
        "id": "oLIrqVM2HdPI",
        "tags": []
      },
      "outputs": [],
      "source": [
        "\"\"\"\n",
        "function to square root transform column\n",
        "\n",
        "\"\"\"\n",
        "def sqrt(col):\n",
        "\n",
        "    sqrtcol = np.sqrt(col)\n",
        "    return pd.Series(sqrtcol)"
      ]
    },
    {
      "cell_type": "code",
      "execution_count": null,
      "metadata": {
        "id": "LHsNKa72HdPI",
        "tags": []
      },
      "outputs": [],
      "source": [
        "\"\"\"\n",
        "function to normalize min max\n",
        "\n",
        "\"\"\"\n",
        "\n",
        "def normminmax(col):\n",
        "    return (col - np.min(col)) / (np.max(col) - np.min(col))"
      ]
    },
    {
      "cell_type": "code",
      "execution_count": null,
      "metadata": {
        "id": "P5Xs-9j9HdPI",
        "tags": []
      },
      "outputs": [],
      "source": [
        "\"\"\"\n",
        "function to normalize z score\n",
        "\n",
        "\"\"\"\n",
        "\n",
        "def normz(col):\n",
        "    return (col - col.mean()) / col.std()"
      ]
    },
    {
      "cell_type": "code",
      "execution_count": null,
      "metadata": {
        "id": "ylxpAceYF52b",
        "tags": []
      },
      "outputs": [],
      "source": [
        "def log(col):\n",
        "  return np.log(col)"
      ]
    },
    {
      "cell_type": "markdown",
      "metadata": {
        "id": "xo72Hp_mHdPI",
        "tags": []
      },
      "source": [
        "#Section 6: Selected Process"
      ]
    },
    {
      "cell_type": "markdown",
      "source": [
        "After spending time putting the data through all 6 processes, we determined that Process 3c was the most efficient one to use. 3A begins with Outlier Handling through IQR, Normalization, and ends with Scaling through z-score. This was a strong process, but we realized that Scaling through minmax was stronger."
      ],
      "metadata": {
        "id": "IBK1aKPSjiB8"
      }
    },
    {
      "cell_type": "markdown",
      "metadata": {
        "tags": [],
        "id": "M3ytuv-T_wBc"
      },
      "source": [
        "## Process 3C: IQR, Normalize, Scale (Min- Max)"
      ]
    },
    {
      "cell_type": "code",
      "execution_count": null,
      "metadata": {
        "tags": [],
        "id": "YZn9Bf8k_wBn"
      },
      "outputs": [],
      "source": [
        "#Apply Posify on Continuous dataframe\n",
        "\n",
        "for col in df_cont.columns:\n",
        "  df_cont[col] = posify(df_cont[col])"
      ]
    },
    {
      "cell_type": "code",
      "execution_count": null,
      "metadata": {
        "tags": [],
        "id": "wJcR36SU_wBn"
      },
      "outputs": [],
      "source": [
        "#Move the data through Proccess 3C iqr, norm, scale (minmax)\n",
        "\n",
        "for col in df_cont.columns:\n",
        "\n",
        "    data = iqrcut(df_cont[col])\n",
        "    data = bcox(data)\n",
        "    data = normminmax(data)\n",
        "    df_cont[col] = data\n",
        ""
      ]
    },
    {
      "cell_type": "markdown",
      "metadata": {
        "id": "ClY82mxBHdPK",
        "tags": []
      },
      "source": [
        "## Visualization After Proccessing:"
      ]
    },
    {
      "cell_type": "markdown",
      "source": [
        "\n",
        "\n",
        "###Skewness:\n",
        "\n"
      ],
      "metadata": {
        "id": "gsmKjDY1ljYQ"
      }
    },
    {
      "cell_type": "code",
      "execution_count": null,
      "metadata": {
        "tags": [],
        "id": "nABRaDm7oYSM",
        "colab": {
          "base_uri": "https://localhost:8080/",
          "height": 307
        },
        "outputId": "aa625432-c19b-45a9-ea81-8726c908ee6c"
      },
      "outputs": [
        {
          "output_type": "display_data",
          "data": {
            "text/plain": [
              "<Figure size 432x288 with 1 Axes>"
            ],
            "image/png": "[encoded data removed]"
          },
          "metadata": {
            "needs_background": "light"
          }
        }
      ],
      "source": [
        "#Visualize skewness after processing\n",
        "df_cont.skew().plot(kind='bar', color='crimson')\n",
        "\n",
        "#Set the title of the visualization\n",
        "plt.title('Continuous Column Skewness After Processing')\n",
        "\n",
        "#Set the y-axis\n",
        "plt.ylabel(\"Skewness\")\n",
        "\n",
        "#Set the x-axis\n",
        "plt.xlabel(\"Column\");"
      ]
    },
    {
      "cell_type": "markdown",
      "source": [
        " 💡Insights:\n",
        " Skewness has improved overall. C6~ continued to be a challenging variable, but we were able to get it close to the ideal range of -0.5 to 0.5. All other continuous features were processed to fit in the ideal range."
      ],
      "metadata": {
        "id": "slsnBPS7l4s2"
      }
    },
    {
      "cell_type": "markdown",
      "source": [
        "###Normalization:"
      ],
      "metadata": {
        "id": "hYZHL4zGmAQZ"
      }
    },
    {
      "cell_type": "code",
      "execution_count": null,
      "metadata": {
        "tags": [],
        "id": "ykHByVbEoYSM",
        "colab": {
          "base_uri": "https://localhost:8080/",
          "height": 281
        },
        "outputId": "64adefd6-56e1-49de-eae6-52e2b5e50b40"
      },
      "outputs": [
        {
          "output_type": "display_data",
          "data": {
            "text/plain": [
              "<Figure size 432x288 with 9 Axes>"
            ],
            "image/png": "[encoded data removed]"
          },
          "metadata": {
            "needs_background": "light"
          }
        }
      ],
      "source": [
        "#Visualize normalization after processing\n",
        "df_cont.hist(color='crimson');"
      ]
    },
    {
      "cell_type": "markdown",
      "source": [
        " 💡Insights:\n",
        " Normalization has moved towards Gaussian Distribution for most of the features. Once again, C6~ has continued to be a struggle to transform."
      ],
      "metadata": {
        "id": "zo6Anwb5mCJp"
      }
    },
    {
      "cell_type": "markdown",
      "source": [
        "###Boxplot:"
      ],
      "metadata": {
        "id": "mi0B4tRKmDck"
      }
    },
    {
      "cell_type": "code",
      "execution_count": null,
      "metadata": {
        "tags": [],
        "id": "bNhLzfFloYSM",
        "colab": {
          "base_uri": "https://localhost:8080/",
          "height": 265
        },
        "outputId": "6b95b0ac-e89c-4876-9c36-2e2e6d84d5b8"
      },
      "outputs": [
        {
          "output_type": "display_data",
          "data": {
            "text/plain": [
              "<Figure size 432x288 with 1 Axes>"
            ],
            "image/png": "[encoded data removed]"
          },
          "metadata": {
            "needs_background": "light"
          }
        }
      ],
      "source": [
        "#Visualize outliers after processing\n",
        "df_cont.boxplot(color='crimson');"
      ]
    },
    {
      "cell_type": "markdown",
      "source": [
        " 💡Insights:\n",
        " Outliers have been successfully dealt with across the continuous features. C6~ was improved significantly, but still remains a problematic feature."
      ],
      "metadata": {
        "id": "5RgtRCl7mL9h"
      }
    },
    {
      "cell_type": "markdown",
      "source": [
        "#Section 7: Feature Selection"
      ],
      "metadata": {
        "id": "IOfSbcB6BzJW"
      }
    },
    {
      "cell_type": "markdown",
      "metadata": {
        "tags": [],
        "id": "8PLHdw-boYSN"
      },
      "source": [
        "## Feature Selection for Categorical"
      ]
    },
    {
      "cell_type": "code",
      "execution_count": null,
      "metadata": {
        "tags": [],
        "id": "nale03fHoYSN"
      },
      "outputs": [],
      "source": [
        "#Categorical feature selection\n",
        "  # Modification in scoring function - categorical uses chi2\n",
        "\n",
        "def cat_feature_selector(X, y, model, names, _method=\"topk\", n=7, fit_X=False, thres = 0.1):\n",
        "  \"\"\"voting based feature selector\n",
        "  - _method: \"topk\" for top-K method (default), \"cutoff\" for cut-off based method\n",
        "  - n: number of features to be selected. only available for top-K method - default half of the total features\n",
        "  - thres: cut-off threshold (default 0.1), only availabel for cutoff method\n",
        "  - fit_X: fit_transform X or just return indices\n",
        "  TODO: include support for regression problems\n",
        "  \"\"\"\n",
        "  #### Placeholder for tests\n",
        "  # X.shape[0] == y.shape[0]\n",
        "  if names: # if given feature names\n",
        "    feature_names = np.array(names)\n",
        "  else: # otherwise use location\n",
        "    feature_names = np.array([\"X%s\" % x for x in range(len(X.shape[0]))])\n",
        "  if _method == 'topk':\n",
        "    #### np.argpartition gets the indices of the largest n element from the array in ascending order\n",
        "    #### [::-1] reverse the order\n",
        "    ############################################################################\n",
        "    #### IMPORTANT:\n",
        "    #### use `chi2` as the `score_func` when doing categorical features - values has to be non-negative\n",
        "    #### use `f_classif` as the `score_func` when doing categorical and continuous feautures\n",
        "    #### use `f_regression` as the `score_func` when doing continuous feautures\n",
        "    ############################################################################\n",
        "    corr_features = list(np.argpartition(SelectKBest(score_func=chi2, k=n).fit(X,y).scores_, -n)[-n:][::-1])\n",
        "    #### binary masking on features, use np.where() to get the indices of selected\n",
        "    rfe_features = list(np.where(RFE(model, n_features_to_select=n, step=1).fit(X, y).support_)[0])\n",
        "    #### argsort get sorted indices by values, ::-1] reverse the asceding order\n",
        "    ridge_features = list(np.argsort(Ridge(alpha=1.0).fit(X, y).coef_)[-n:][::-1])\n",
        "    #### using ExtraTree\n",
        "    extratree_features = list(np.argsort(ExtraTreesClassifier().fit(X, y).feature_importances_)[-n:][::-1])\n",
        "    ### using Random Forest:\n",
        "    rf_features = list(np.argsort(RandomForestClassifier().fit(X, y).feature_importances_)[-n:][::-1])\n",
        "    print(\"Using the Top-K method: \")\n",
        "    print(\"Selected features by correlation: \", feature_names[corr_features])\n",
        "    print(\"Selected features by RFE: \", feature_names[rfe_features])\n",
        "    print(\"Selected features by Ridge coefficients: \", feature_names[ridge_features])\n",
        "    print(\"Selected features by Extra Tree feature importance: \", feature_names[extratree_features])\n",
        "    print(\"Selected features by Random Forest feature importance: \", feature_names[rf_features])\n",
        "\n",
        "  elif _method == 'cutoff':\n",
        "    corr_features, rfe_features = list(), list() #### N/A\n",
        "    ridge_features = list(np.where(Ridge(alpha=1.0).fit(X, y).coef_ > thres)[0])\n",
        "    extratree_features = list(np.where(ExtraTreesClassifier().fit(X, y).feature_importances_ > thres)[0])\n",
        "    rf_features = list(np.where(RandomForestClassifier().fit(X, y).feature_importances_ > thres)[0])\n",
        "    print(\"Using the Cutoff method: \")\n",
        "    # print(\"Selected features by correlation: \", feature_names[corr_features])\n",
        "    # print(\"Selected features by RFE: \", feature_names[rfe_features])\n",
        "    print(\"Selected features by Ridge coefficients: \", feature_names[ridge_features])\n",
        "    print(\"Selected features by Extra Tree feature importance: \", feature_names[extratree_features])\n",
        "    print(\"Selected features by Random Forest feature importance: \", feature_names[rf_features])\n",
        "  else:\n",
        "    return(\"Only Top-K and Cutoff methods are currently supported!\")\n",
        "\n",
        "  ######################################\n",
        "  #### combine results using voting ####\n",
        "  ######################################\n",
        "  counted = Counter(np.concatenate((corr_features, rfe_features, ridge_features, extratree_features, rf_features), axis=None)).most_common(n)\n",
        "\n",
        "  #### list of tuples (feature_index, votes)\n",
        "  counted.sort(key = lambda x: x[1], reverse=True)\n",
        "  final_select_series = pd.Series({feature_names[f]:c for f,c in counted}).sort_values(ascending=False)\n",
        "  selected_idx = sorted([f for f,c in counted])\n",
        "  assert len(selected_idx) == n\n",
        "  print(final_select_series)\n",
        "  if fit_X:\n",
        "    return(X[:,selected_idx])\n",
        "  else:\n",
        "    return(feature_names[selected_idx])"
      ]
    },
    {
      "cell_type": "markdown",
      "metadata": {
        "tags": [],
        "id": "1kGWyQu7Bpuu"
      },
      "source": [
        "## Feature Selection for Continuous"
      ]
    },
    {
      "cell_type": "code",
      "execution_count": null,
      "metadata": {
        "tags": [],
        "id": "lKpO5dXRBpuv"
      },
      "outputs": [],
      "source": [
        "#Continuous feature selection\n",
        "  #Continuous scoring method is f_regression\n",
        "\n",
        "def cont_feature_selector(X, y, model, names, _method=\"topk\", n=7, fit_X=False, thres = 0.1):\n",
        "  \"\"\"voting based feature selector\n",
        "  - _method: \"topk\" for top-K method (default), \"cutoff\" for cut-off based method\n",
        "  - n: number of features to be selected. only available for top-K method - default half of the total features\n",
        "  - thres: cut-off threshold (default 0.1), only availabel for cutoff method\n",
        "  - fit_X: fit_transform X or just return indices\n",
        "  TODO: include support for regression problems\n",
        "  \"\"\"\n",
        "  #### Placeholder for tests\n",
        "  # X.shape[0] == y.shape[0]\n",
        "  if names: # if given feature names\n",
        "    feature_names = np.array(names)\n",
        "  else: # otherwise use location\n",
        "    feature_names = np.array([\"X%s\" % x for x in range(len(X.shape[0]))])\n",
        "  if _method == 'topk':\n",
        "    #### np.argpartition gets the indices of the largest n element from the array in ascending order\n",
        "    #### [::-1] reverse the order\n",
        "    ############################################################################\n",
        "    #### IMPORTANT:\n",
        "    #### use `chi2` as the `score_func` when doing categorical features - values has to be non-negative\n",
        "    #### use `f_classif` as the `score_func` when doing categorical and continuous feautures\n",
        "    #### use `f_regression` as the `score_func` when doing continuous feautures\n",
        "    ############################################################################\n",
        "    corr_features = list(np.argpartition(SelectKBest(score_func=f_regression, k=n).fit(X,y).scores_, -n)[-n:][::-1])\n",
        "    #### binary masking on features, use np.where() to get the indices of selected\n",
        "    rfe_features = list(np.where(RFE(model, n_features_to_select=n, step=1).fit(X, y).support_)[0])\n",
        "    #### argsort get sorted indices by values, ::-1] reverse the asceding order\n",
        "    ridge_features = list(np.argsort(Ridge(alpha=1.0).fit(X, y).coef_)[-n:][::-1])\n",
        "    #### using ExtraTree\n",
        "    extratree_features = list(np.argsort(ExtraTreesClassifier().fit(X, y).feature_importances_)[-n:][::-1])\n",
        "    ### using Random Forest:\n",
        "    rf_features = list(np.argsort(RandomForestClassifier().fit(X, y).feature_importances_)[-n:][::-1])\n",
        "    print(\"Using the Top-K method: \")\n",
        "    print(\"Selected features by correlation: \", feature_names[corr_features])\n",
        "    print(\"Selected features by RFE: \", feature_names[rfe_features])\n",
        "    print(\"Selected features by Ridge coefficients: \", feature_names[ridge_features])\n",
        "    print(\"Selected features by Extra Tree feature importance: \", feature_names[extratree_features])\n",
        "    print(\"Selected features by Random Forest feature importance: \", feature_names[rf_features])\n",
        "\n",
        "  elif _method == 'cutoff':\n",
        "    corr_features, rfe_features = list(), list() #### N/A\n",
        "    ridge_features = list(np.where(Ridge(alpha=1.0).fit(X, y).coef_ > thres)[0])\n",
        "    extratree_features = list(np.where(ExtraTreesClassifier().fit(X, y).feature_importances_ > thres)[0])\n",
        "    rf_features = list(np.where(RandomForestClassifier().fit(X, y).feature_importances_ > thres)[0])\n",
        "    print(\"Using the Cutoff method: \")\n",
        "    # print(\"Selected features by correlation: \", feature_names[corr_features])\n",
        "    # print(\"Selected features by RFE: \", feature_names[rfe_features])\n",
        "    print(\"Selected features by Ridge coefficients: \", feature_names[ridge_features])\n",
        "    print(\"Selected features by Extra Tree feature importance: \", feature_names[extratree_features])\n",
        "    print(\"Selected features by Random Forest feature importance: \", feature_names[rf_features])\n",
        "  else:\n",
        "    return(\"Only Top-K and Cutoff methods are currently supported!\")\n",
        "\n",
        "  ######################################\n",
        "  #### combine results using voting ####\n",
        "  ######################################\n",
        "  counted = Counter(np.concatenate((corr_features, rfe_features, ridge_features, extratree_features, rf_features), axis=None)).most_common(n)\n",
        "\n",
        "  #### list of tuples (feature_index, votes)\n",
        "  counted.sort(key = lambda x: x[1], reverse=True)\n",
        "  final_select_series = pd.Series({feature_names[f]:c for f,c in counted}).sort_values(ascending=False)\n",
        "  selected_idx = sorted([f for f,c in counted])\n",
        "  assert len(selected_idx) == n\n",
        "  print(final_select_series)\n",
        "  if fit_X:\n",
        "    return(X[:,selected_idx])\n",
        "  else:\n",
        "    return(feature_names[selected_idx])"
      ]
    },
    {
      "cell_type": "markdown",
      "source": [
        "###Function Run"
      ],
      "metadata": {
        "id": "hd-9d35RsYSh"
      }
    },
    {
      "cell_type": "code",
      "execution_count": null,
      "metadata": {
        "tags": [],
        "id": "6hUsDiDTBt0e"
      },
      "outputs": [],
      "source": [
        "def run(test_df,target,n,_type='cont'):\n",
        "    '''\n",
        "    Define function run into order to more easily put the data through feature selection.\n",
        "    INPUTS:\n",
        "    - test_df: dataframe to loop through\n",
        "    -target: target variable to select for\n",
        "    -n: number of features to be selected if not 7\n",
        "    -_type: data type (cat or cont)\n",
        "    '''\n",
        "    global cont_selected_features,cat_selected_features,y\n",
        "\n",
        "    names = list(test_df.columns)\n",
        "    array = test_df.values\n",
        "\n",
        "    X = array #features\n",
        "\n",
        "    y = target #target\n",
        "    test_df = df_target.join(test_df)\n",
        "\n",
        "    if _type == 'cont':\n",
        "        cont_selected_features = cont_feature_selector(X, y, model=RandomForestClassifier(), names=names, n = n, fit_X=True)\n",
        "    if _type == 'cat':\n",
        "        cat_selected_features = cat_feature_selector(X, y, model=RandomForestClassifier(), names=names, n = n, fit_X=True)"
      ]
    },
    {
      "cell_type": "code",
      "execution_count": null,
      "metadata": {
        "tags": [],
        "id": "GVxgPmf1Cgt4"
      },
      "outputs": [],
      "source": [
        "#Join df_cont with df_ratios so they are both included in feature selection\n",
        "test = pd.concat([df_cont,df_ratios],axis=1)"
      ]
    },
    {
      "cell_type": "markdown",
      "source": [
        "## Run- Continuous"
      ],
      "metadata": {
        "id": "FEWM-144CZp4"
      }
    },
    {
      "cell_type": "code",
      "execution_count": null,
      "metadata": {
        "tags": [],
        "id": "0aDq6c1DCk1r",
        "colab": {
          "base_uri": "https://localhost:8080/"
        },
        "outputId": "bf6f152b-d33d-4549-e39d-044ba34bb1ce"
      },
      "outputs": [
        {
          "output_type": "stream",
          "name": "stdout",
          "text": [
            "Using the Top-K method: \n",
            "Selected features by correlation:  ['sharesoff_shareout_ratio' 'C1' 'neg_word_ratio' 'pos_word_ratio' 'C5~'\n",
            " 'S3' 'T5' 'C4' 'T3']\n",
            "Selected features by RFE:  ['C1' 'C4' 'T3' 'T4' 'T5' 'pos_word_ratio' 'neg_word_ratio'\n",
            " 'sales_share_ratio' 'sharesoff_shareout_ratio']\n",
            "Selected features by Ridge coefficients:  ['neg_word_ratio' 'T5' 'sharesoff_shareout_ratio' 'pos_word_ratio' 'C1'\n",
            " 'S3' 'C5~' 'T3' 'sales_share_ratio']\n",
            "Selected features by Extra Tree feature importance:  ['neg_word_ratio' 'C4' 'pos_word_ratio' 'sales_share_ratio' 'T5' 'C1' 'S3'\n",
            " 'T4' 'C5~']\n",
            "Selected features by Random Forest feature importance:  ['neg_word_ratio' 'sales_share_ratio' 'C4' 'pos_word_ratio' 'T5'\n",
            " 'sharesoff_shareout_ratio' 'T4' 'C1' 'S3']\n",
            "C1                          5\n",
            "neg_word_ratio              5\n",
            "pos_word_ratio              5\n",
            "T5                          5\n",
            "sharesoff_shareout_ratio    4\n",
            "S3                          4\n",
            "C4                          4\n",
            "sales_share_ratio           4\n",
            "C5~                         3\n",
            "dtype: int64\n"
          ]
        }
      ],
      "source": [
        "#Run() returns selection results and the features as `cat_selected_features` or `cont_selected_features`\n",
        "\n",
        "# As we are running for Y1 here C6~ is dropped because it is overfitting\n",
        "run(test.drop('C6~',axis=1),df['Y1'],9,_type='cont')"
      ]
    },
    {
      "cell_type": "markdown",
      "metadata": {
        "id": "s8cDY3UpC5tK"
      },
      "source": [
        "##Run- Categorical"
      ]
    },
    {
      "cell_type": "code",
      "execution_count": null,
      "metadata": {
        "tags": [],
        "id": "iegUcT8pC5tL",
        "colab": {
          "base_uri": "https://localhost:8080/"
        },
        "outputId": "246ea306-43cd-429d-c773-6236c765aa2f"
      },
      "outputs": [
        {
          "output_type": "stream",
          "name": "stdout",
          "text": [
            "Using the Top-K method: \n",
            "Selected features by correlation:  ['C3~']\n",
            "Selected features by RFE:  ['C3~']\n",
            "Selected features by Ridge coefficients:  ['bin_sales']\n",
            "Selected features by Extra Tree feature importance:  ['I3tech']\n",
            "Selected features by Random Forest feature importance:  ['I3tech']\n",
            "C3~    2\n",
            "dtype: int64\n"
          ]
        }
      ],
      "source": [
        "run(df_cat,df['Y1'],1,_type='cat')"
      ]
    },
    {
      "cell_type": "markdown",
      "metadata": {
        "tags": [],
        "id": "nTCRD1WCoYSO"
      },
      "source": [
        "## Evaluation Model- Logistic Regression 🔌"
      ]
    },
    {
      "cell_type": "code",
      "execution_count": null,
      "metadata": {
        "id": "2Yw-Qs2LDBM-"
      },
      "outputs": [],
      "source": [
        "clf = LogisticRegression(max_iter=2000)\n",
        "\n",
        "def my_eval(X, y, classifer = clf, k=10, scoring = 'f1'):\n",
        "  '''\n",
        "  return evaluation results (f1-score or ROC_AUC).\n",
        "  Built in k-fold evaluation.\n",
        "  INPUTS:\n",
        "  ----\n",
        "  - X: features; DataFrame or Numpy ndarray;\n",
        "  - y: target; DataFrame or Numpy ndarray;\n",
        "  - classifier: any sklearn (or its add-on) based classifier\n",
        "  - k: number of folds in cross validation\n",
        "  - scoring: evaluation metric ('f1' default or 'roc_auc')\n",
        "  OUTPUT:\n",
        "  ----\n",
        "  bias/variance score of selected metric. Both lower the better\n",
        "  - bias: mean of the metric over cross validation, measure the accruracy\n",
        "  - variance: std.ev. of the metric, measure the consistency.\n",
        "  '''\n",
        "  scores = []\n",
        "  for i in range(100):\n",
        "    #### generate random numbers to shuffle the data for training and test\n",
        "    np.random.seed(2021)\n",
        "    random_int = np.random.randint(0,3000)\n",
        "    #### create cross validation folds\n",
        "    kfold = model_selection.KFold(n_splits=k, random_state=random_int, shuffle=True)\n",
        "    #### record the score\n",
        "    score = model_selection.cross_val_score(clf, X=X, y=y, cv=kfold, scoring=scoring)\n",
        "    scores.append(score)\n",
        "  scores = np.array(scores)\n",
        "  #### we need to calculate the bias (average score) and viariance (std)\n",
        "  bias, variance = 1 - round(scores.mean(),4), round(scores.std(),4)\n",
        "  return(bias, variance)"
      ]
    },
    {
      "cell_type": "code",
      "execution_count": null,
      "metadata": {
        "id": "10x2ha8hDFPO",
        "colab": {
          "base_uri": "https://localhost:8080/",
          "height": 381
        },
        "outputId": "155d758a-f546-42ea-cd2f-66e9b958d50e"
      },
      "outputs": [
        {
          "output_type": "error",
          "ename": "KeyboardInterrupt",
          "evalue": "ignored",
          "traceback": [
            "\u001b[0;31m---------------------------------------------------------------------------\u001b[0m",
            "\u001b[0;31mKeyboardInterrupt\u001b[0m                         Traceback (most recent call last)",
            "\u001b[0;32m<ipython-input-145-25248658fb7a>\u001b[0m in \u001b[0;36m<module>\u001b[0;34m\u001b[0m\n\u001b[1;32m     12\u001b[0m \u001b[0;34m\u001b[0m\u001b[0m\n\u001b[1;32m     13\u001b[0m \u001b[0mF1\u001b[0m \u001b[0;34m=\u001b[0m \u001b[0mmy_eval\u001b[0m\u001b[0;34m(\u001b[0m\u001b[0mX_res\u001b[0m\u001b[0;34m,\u001b[0m \u001b[0my_res\u001b[0m\u001b[0;34m,\u001b[0m \u001b[0mclf\u001b[0m\u001b[0;34m,\u001b[0m \u001b[0;36m10\u001b[0m\u001b[0;34m)\u001b[0m \u001b[0;31m# Run model for f1\u001b[0m\u001b[0;34m\u001b[0m\u001b[0;34m\u001b[0m\u001b[0m\n\u001b[0;32m---> 14\u001b[0;31m \u001b[0mROC\u001b[0m \u001b[0;34m=\u001b[0m \u001b[0mmy_eval\u001b[0m\u001b[0;34m(\u001b[0m\u001b[0mX_res\u001b[0m\u001b[0;34m,\u001b[0m \u001b[0my_res\u001b[0m\u001b[0;34m,\u001b[0m \u001b[0mclf\u001b[0m\u001b[0;34m,\u001b[0m \u001b[0;36m10\u001b[0m\u001b[0;34m,\u001b[0m \u001b[0;34m'roc_auc'\u001b[0m\u001b[0;34m)\u001b[0m \u001b[0;31m# Run model for AUC\u001b[0m\u001b[0;34m\u001b[0m\u001b[0;34m\u001b[0m\u001b[0m\n\u001b[0m\u001b[1;32m     15\u001b[0m \u001b[0;34m\u001b[0m\u001b[0m\n\u001b[1;32m     16\u001b[0m \u001b[0mprint\u001b[0m\u001b[0;34m(\u001b[0m\u001b[0;34mf' F1: {F1[0].round(4)} ROC: {ROC[0].round(4)}'\u001b[0m\u001b[0;34m)\u001b[0m \u001b[0;31m# Print output\u001b[0m\u001b[0;34m\u001b[0m\u001b[0;34m\u001b[0m\u001b[0m\n",
            "\u001b[0;32m<ipython-input-144-8e72c92c7b05>\u001b[0m in \u001b[0;36mmy_eval\u001b[0;34m(X, y, classifer, k, scoring)\u001b[0m\n\u001b[1;32m     26\u001b[0m     \u001b[0mkfold\u001b[0m \u001b[0;34m=\u001b[0m \u001b[0mmodel_selection\u001b[0m\u001b[0;34m.\u001b[0m\u001b[0mKFold\u001b[0m\u001b[0;34m(\u001b[0m\u001b[0mn_splits\u001b[0m\u001b[0;34m=\u001b[0m\u001b[0mk\u001b[0m\u001b[0;34m,\u001b[0m \u001b[0mrandom_state\u001b[0m\u001b[0;34m=\u001b[0m\u001b[0mrandom_int\u001b[0m\u001b[0;34m,\u001b[0m \u001b[0mshuffle\u001b[0m\u001b[0;34m=\u001b[0m\u001b[0;32mTrue\u001b[0m\u001b[0;34m)\u001b[0m\u001b[0;34m\u001b[0m\u001b[0;34m\u001b[0m\u001b[0m\n\u001b[1;32m     27\u001b[0m     \u001b[0;31m#### record the score\u001b[0m\u001b[0;34m\u001b[0m\u001b[0;34m\u001b[0m\u001b[0;34m\u001b[0m\u001b[0m\n\u001b[0;32m---> 28\u001b[0;31m     \u001b[0mscore\u001b[0m \u001b[0;34m=\u001b[0m \u001b[0mmodel_selection\u001b[0m\u001b[0;34m.\u001b[0m\u001b[0mcross_val_score\u001b[0m\u001b[0;34m(\u001b[0m\u001b[0mclf\u001b[0m\u001b[0;34m,\u001b[0m \u001b[0mX\u001b[0m\u001b[0;34m=\u001b[0m\u001b[0mX\u001b[0m\u001b[0;34m,\u001b[0m \u001b[0my\u001b[0m\u001b[0;34m=\u001b[0m\u001b[0my\u001b[0m\u001b[0;34m,\u001b[0m \u001b[0mcv\u001b[0m\u001b[0;34m=\u001b[0m\u001b[0mkfold\u001b[0m\u001b[0;34m,\u001b[0m \u001b[0mscoring\u001b[0m\u001b[0;34m=\u001b[0m\u001b[0mscoring\u001b[0m\u001b[0;34m)\u001b[0m\u001b[0;34m\u001b[0m\u001b[0;34m\u001b[0m\u001b[0m\n\u001b[0m\u001b[1;32m     29\u001b[0m     \u001b[0mscores\u001b[0m\u001b[0;34m.\u001b[0m\u001b[0mappend\u001b[0m\u001b[0;34m(\u001b[0m\u001b[0mscore\u001b[0m\u001b[0;34m)\u001b[0m\u001b[0;34m\u001b[0m\u001b[0;34m\u001b[0m\u001b[0m\n\u001b[1;32m     30\u001b[0m   \u001b[0mscores\u001b[0m \u001b[0;34m=\u001b[0m \u001b[0mnp\u001b[0m\u001b[0;34m.\u001b[0m\u001b[0marray\u001b[0m\u001b[0;34m(\u001b[0m\u001b[0mscores\u001b[0m\u001b[0;34m)\u001b[0m\u001b[0;34m\u001b[0m\u001b[0;34m\u001b[0m\u001b[0m\n",
            "\u001b[0;32m/usr/local/lib/python3.8/dist-packages/sklearn/model_selection/_validation.py\u001b[0m in \u001b[0;36mcross_val_score\u001b[0;34m(estimator, X, y, groups, scoring, cv, n_jobs, verbose, fit_params, pre_dispatch, error_score)\u001b[0m\n\u001b[1;32m    507\u001b[0m     \u001b[0mscorer\u001b[0m \u001b[0;34m=\u001b[0m \u001b[0mcheck_scoring\u001b[0m\u001b[0;34m(\u001b[0m\u001b[0mestimator\u001b[0m\u001b[0;34m,\u001b[0m \u001b[0mscoring\u001b[0m\u001b[0;34m=\u001b[0m\u001b[0mscoring\u001b[0m\u001b[0;34m)\u001b[0m\u001b[0;34m\u001b[0m\u001b[0;34m\u001b[0m\u001b[0m\n\u001b[1;32m    508\u001b[0m \u001b[0;34m\u001b[0m\u001b[0m\n\u001b[0;32m--> 509\u001b[0;31m     cv_results = cross_validate(\n\u001b[0m\u001b[1;32m    510\u001b[0m         \u001b[0mestimator\u001b[0m\u001b[0;34m=\u001b[0m\u001b[0mestimator\u001b[0m\u001b[0;34m,\u001b[0m\u001b[0;34m\u001b[0m\u001b[0;34m\u001b[0m\u001b[0m\n\u001b[1;32m    511\u001b[0m         \u001b[0mX\u001b[0m\u001b[0;34m=\u001b[0m\u001b[0mX\u001b[0m\u001b[0;34m,\u001b[0m\u001b[0;34m\u001b[0m\u001b[0;34m\u001b[0m\u001b[0m\n",
            "\u001b[0;32m/usr/local/lib/python3.8/dist-packages/sklearn/model_selection/_validation.py\u001b[0m in \u001b[0;36mcross_validate\u001b[0;34m(estimator, X, y, groups, scoring, cv, n_jobs, verbose, fit_params, pre_dispatch, return_train_score, return_estimator, error_score)\u001b[0m\n\u001b[1;32m    265\u001b[0m     \u001b[0;31m# independent, and that it is pickle-able.\u001b[0m\u001b[0;34m\u001b[0m\u001b[0;34m\u001b[0m\u001b[0;34m\u001b[0m\u001b[0m\n\u001b[1;32m    266\u001b[0m     \u001b[0mparallel\u001b[0m \u001b[0;34m=\u001b[0m \u001b[0mParallel\u001b[0m\u001b[0;34m(\u001b[0m\u001b[0mn_jobs\u001b[0m\u001b[0;34m=\u001b[0m\u001b[0mn_jobs\u001b[0m\u001b[0;34m,\u001b[0m \u001b[0mverbose\u001b[0m\u001b[0;34m=\u001b[0m\u001b[0mverbose\u001b[0m\u001b[0;34m,\u001b[0m \u001b[0mpre_dispatch\u001b[0m\u001b[0;34m=\u001b[0m\u001b[0mpre_dispatch\u001b[0m\u001b[0;34m)\u001b[0m\u001b[0;34m\u001b[0m\u001b[0;34m\u001b[0m\u001b[0m\n\u001b[0;32m--> 267\u001b[0;31m     results = parallel(\n\u001b[0m\u001b[1;32m    268\u001b[0m         delayed(_fit_and_score)(\n\u001b[1;32m    269\u001b[0m             \u001b[0mclone\u001b[0m\u001b[0;34m(\u001b[0m\u001b[0mestimator\u001b[0m\u001b[0;34m)\u001b[0m\u001b[0;34m,\u001b[0m\u001b[0;34m\u001b[0m\u001b[0;34m\u001b[0m\u001b[0m\n",
            "\u001b[0;32m/usr/local/lib/python3.8/dist-packages/joblib/parallel.py\u001b[0m in \u001b[0;36m__call__\u001b[0;34m(self, iterable)\u001b[0m\n\u001b[1;32m   1083\u001b[0m             \u001b[0;31m# remaining jobs.\u001b[0m\u001b[0;34m\u001b[0m\u001b[0;34m\u001b[0m\u001b[0;34m\u001b[0m\u001b[0m\n\u001b[1;32m   1084\u001b[0m             \u001b[0mself\u001b[0m\u001b[0;34m.\u001b[0m\u001b[0m_iterating\u001b[0m \u001b[0;34m=\u001b[0m \u001b[0;32mFalse\u001b[0m\u001b[0;34m\u001b[0m\u001b[0;34m\u001b[0m\u001b[0m\n\u001b[0;32m-> 1085\u001b[0;31m             \u001b[0;32mif\u001b[0m \u001b[0mself\u001b[0m\u001b[0;34m.\u001b[0m\u001b[0mdispatch_one_batch\u001b[0m\u001b[0;34m(\u001b[0m\u001b[0miterator\u001b[0m\u001b[0;34m)\u001b[0m\u001b[0;34m:\u001b[0m\u001b[0;34m\u001b[0m\u001b[0;34m\u001b[0m\u001b[0m\n\u001b[0m\u001b[1;32m   1086\u001b[0m                 \u001b[0mself\u001b[0m\u001b[0;34m.\u001b[0m\u001b[0m_iterating\u001b[0m \u001b[0;34m=\u001b[0m \u001b[0mself\u001b[0m\u001b[0;34m.\u001b[0m\u001b[0m_original_iterator\u001b[0m \u001b[0;32mis\u001b[0m \u001b[0;32mnot\u001b[0m \u001b[0;32mNone\u001b[0m\u001b[0;34m\u001b[0m\u001b[0;34m\u001b[0m\u001b[0m\n\u001b[1;32m   1087\u001b[0m \u001b[0;34m\u001b[0m\u001b[0m\n",
            "\u001b[0;32m/usr/local/lib/python3.8/dist-packages/joblib/parallel.py\u001b[0m in \u001b[0;36mdispatch_one_batch\u001b[0;34m(self, iterator)\u001b[0m\n\u001b[1;32m    899\u001b[0m                 \u001b[0;32mreturn\u001b[0m \u001b[0;32mFalse\u001b[0m\u001b[0;34m\u001b[0m\u001b[0;34m\u001b[0m\u001b[0m\n\u001b[1;32m    900\u001b[0m             \u001b[0;32melse\u001b[0m\u001b[0;34m:\u001b[0m\u001b[0;34m\u001b[0m\u001b[0;34m\u001b[0m\u001b[0m\n\u001b[0;32m--> 901\u001b[0;31m                 \u001b[0mself\u001b[0m\u001b[0;34m.\u001b[0m\u001b[0m_dispatch\u001b[0m\u001b[0;34m(\u001b[0m\u001b[0mtasks\u001b[0m\u001b[0;34m)\u001b[0m\u001b[0;34m\u001b[0m\u001b[0;34m\u001b[0m\u001b[0m\n\u001b[0m\u001b[1;32m    902\u001b[0m                 \u001b[0;32mreturn\u001b[0m \u001b[0;32mTrue\u001b[0m\u001b[0;34m\u001b[0m\u001b[0;34m\u001b[0m\u001b[0m\n\u001b[1;32m    903\u001b[0m \u001b[0;34m\u001b[0m\u001b[0m\n",
            "\u001b[0;32m/usr/local/lib/python3.8/dist-packages/joblib/parallel.py\u001b[0m in \u001b[0;36m_dispatch\u001b[0;34m(self, batch)\u001b[0m\n\u001b[1;32m    817\u001b[0m         \u001b[0;32mwith\u001b[0m \u001b[0mself\u001b[0m\u001b[0;34m.\u001b[0m\u001b[0m_lock\u001b[0m\u001b[0;34m:\u001b[0m\u001b[0;34m\u001b[0m\u001b[0;34m\u001b[0m\u001b[0m\n\u001b[1;32m    818\u001b[0m             \u001b[0mjob_idx\u001b[0m \u001b[0;34m=\u001b[0m \u001b[0mlen\u001b[0m\u001b[0;34m(\u001b[0m\u001b[0mself\u001b[0m\u001b[0;34m.\u001b[0m\u001b[0m_jobs\u001b[0m\u001b[0;34m)\u001b[0m\u001b[0;34m\u001b[0m\u001b[0;34m\u001b[0m\u001b[0m\n\u001b[0;32m--> 819\u001b[0;31m             \u001b[0mjob\u001b[0m \u001b[0;34m=\u001b[0m \u001b[0mself\u001b[0m\u001b[0;34m.\u001b[0m\u001b[0m_backend\u001b[0m\u001b[0;34m.\u001b[0m\u001b[0mapply_async\u001b[0m\u001b[0;34m(\u001b[0m\u001b[0mbatch\u001b[0m\u001b[0;34m,\u001b[0m \u001b[0mcallback\u001b[0m\u001b[0;34m=\u001b[0m\u001b[0mcb\u001b[0m\u001b[0;34m)\u001b[0m\u001b[0;34m\u001b[0m\u001b[0;34m\u001b[0m\u001b[0m\n\u001b[0m\u001b[1;32m    820\u001b[0m             \u001b[0;31m# A job can complete so quickly than its callback is\u001b[0m\u001b[0;34m\u001b[0m\u001b[0;34m\u001b[0m\u001b[0;34m\u001b[0m\u001b[0m\n\u001b[1;32m    821\u001b[0m             \u001b[0;31m# called before we get here, causing self._jobs to\u001b[0m\u001b[0;34m\u001b[0m\u001b[0;34m\u001b[0m\u001b[0;34m\u001b[0m\u001b[0m\n",
            "\u001b[0;32m/usr/local/lib/python3.8/dist-packages/joblib/_parallel_backends.py\u001b[0m in \u001b[0;36mapply_async\u001b[0;34m(self, func, callback)\u001b[0m\n\u001b[1;32m    206\u001b[0m     \u001b[0;32mdef\u001b[0m \u001b[0mapply_async\u001b[0m\u001b[0;34m(\u001b[0m\u001b[0mself\u001b[0m\u001b[0;34m,\u001b[0m \u001b[0mfunc\u001b[0m\u001b[0;34m,\u001b[0m \u001b[0mcallback\u001b[0m\u001b[0;34m=\u001b[0m\u001b[0;32mNone\u001b[0m\u001b[0;34m)\u001b[0m\u001b[0;34m:\u001b[0m\u001b[0;34m\u001b[0m\u001b[0;34m\u001b[0m\u001b[0m\n\u001b[1;32m    207\u001b[0m         \u001b[0;34m\"\"\"Schedule a func to be run\"\"\"\u001b[0m\u001b[0;34m\u001b[0m\u001b[0;34m\u001b[0m\u001b[0m\n\u001b[0;32m--> 208\u001b[0;31m         \u001b[0mresult\u001b[0m \u001b[0;34m=\u001b[0m \u001b[0mImmediateResult\u001b[0m\u001b[0;34m(\u001b[0m\u001b[0mfunc\u001b[0m\u001b[0;34m)\u001b[0m\u001b[0;34m\u001b[0m\u001b[0;34m\u001b[0m\u001b[0m\n\u001b[0m\u001b[1;32m    209\u001b[0m         \u001b[0;32mif\u001b[0m \u001b[0mcallback\u001b[0m\u001b[0;34m:\u001b[0m\u001b[0;34m\u001b[0m\u001b[0;34m\u001b[0m\u001b[0m\n\u001b[1;32m    210\u001b[0m             \u001b[0mcallback\u001b[0m\u001b[0;34m(\u001b[0m\u001b[0mresult\u001b[0m\u001b[0;34m)\u001b[0m\u001b[0;34m\u001b[0m\u001b[0;34m\u001b[0m\u001b[0m\n",
            "\u001b[0;32m/usr/local/lib/python3.8/dist-packages/joblib/_parallel_backends.py\u001b[0m in \u001b[0;36m__init__\u001b[0;34m(self, batch)\u001b[0m\n\u001b[1;32m    595\u001b[0m         \u001b[0;31m# Don't delay the application, to avoid keeping the input\u001b[0m\u001b[0;34m\u001b[0m\u001b[0;34m\u001b[0m\u001b[0;34m\u001b[0m\u001b[0m\n\u001b[1;32m    596\u001b[0m         \u001b[0;31m# arguments in memory\u001b[0m\u001b[0;34m\u001b[0m\u001b[0;34m\u001b[0m\u001b[0;34m\u001b[0m\u001b[0m\n\u001b[0;32m--> 597\u001b[0;31m         \u001b[0mself\u001b[0m\u001b[0;34m.\u001b[0m\u001b[0mresults\u001b[0m \u001b[0;34m=\u001b[0m \u001b[0mbatch\u001b[0m\u001b[0;34m(\u001b[0m\u001b[0;34m)\u001b[0m\u001b[0;34m\u001b[0m\u001b[0;34m\u001b[0m\u001b[0m\n\u001b[0m\u001b[1;32m    598\u001b[0m \u001b[0;34m\u001b[0m\u001b[0m\n\u001b[1;32m    599\u001b[0m     \u001b[0;32mdef\u001b[0m \u001b[0mget\u001b[0m\u001b[0;34m(\u001b[0m\u001b[0mself\u001b[0m\u001b[0;34m)\u001b[0m\u001b[0;34m:\u001b[0m\u001b[0;34m\u001b[0m\u001b[0;34m\u001b[0m\u001b[0m\n",
            "\u001b[0;32m/usr/local/lib/python3.8/dist-packages/joblib/parallel.py\u001b[0m in \u001b[0;36m__call__\u001b[0;34m(self)\u001b[0m\n\u001b[1;32m    286\u001b[0m         \u001b[0;31m# change the default number of processes to -1\u001b[0m\u001b[0;34m\u001b[0m\u001b[0;34m\u001b[0m\u001b[0;34m\u001b[0m\u001b[0m\n\u001b[1;32m    287\u001b[0m         \u001b[0;32mwith\u001b[0m \u001b[0mparallel_backend\u001b[0m\u001b[0;34m(\u001b[0m\u001b[0mself\u001b[0m\u001b[0;34m.\u001b[0m\u001b[0m_backend\u001b[0m\u001b[0;34m,\u001b[0m \u001b[0mn_jobs\u001b[0m\u001b[0;34m=\u001b[0m\u001b[0mself\u001b[0m\u001b[0;34m.\u001b[0m\u001b[0m_n_jobs\u001b[0m\u001b[0;34m)\u001b[0m\u001b[0;34m:\u001b[0m\u001b[0;34m\u001b[0m\u001b[0;34m\u001b[0m\u001b[0m\n\u001b[0;32m--> 288\u001b[0;31m             return [func(*args, **kwargs)\n\u001b[0m\u001b[1;32m    289\u001b[0m                     for func, args, kwargs in self.items]\n\u001b[1;32m    290\u001b[0m \u001b[0;34m\u001b[0m\u001b[0m\n",
            "\u001b[0;32m/usr/local/lib/python3.8/dist-packages/joblib/parallel.py\u001b[0m in \u001b[0;36m<listcomp>\u001b[0;34m(.0)\u001b[0m\n\u001b[1;32m    286\u001b[0m         \u001b[0;31m# change the default number of processes to -1\u001b[0m\u001b[0;34m\u001b[0m\u001b[0;34m\u001b[0m\u001b[0;34m\u001b[0m\u001b[0m\n\u001b[1;32m    287\u001b[0m         \u001b[0;32mwith\u001b[0m \u001b[0mparallel_backend\u001b[0m\u001b[0;34m(\u001b[0m\u001b[0mself\u001b[0m\u001b[0;34m.\u001b[0m\u001b[0m_backend\u001b[0m\u001b[0;34m,\u001b[0m \u001b[0mn_jobs\u001b[0m\u001b[0;34m=\u001b[0m\u001b[0mself\u001b[0m\u001b[0;34m.\u001b[0m\u001b[0m_n_jobs\u001b[0m\u001b[0;34m)\u001b[0m\u001b[0;34m:\u001b[0m\u001b[0;34m\u001b[0m\u001b[0;34m\u001b[0m\u001b[0m\n\u001b[0;32m--> 288\u001b[0;31m             return [func(*args, **kwargs)\n\u001b[0m\u001b[1;32m    289\u001b[0m                     for func, args, kwargs in self.items]\n\u001b[1;32m    290\u001b[0m \u001b[0;34m\u001b[0m\u001b[0m\n",
            "\u001b[0;32m/usr/local/lib/python3.8/dist-packages/sklearn/utils/fixes.py\u001b[0m in \u001b[0;36m__call__\u001b[0;34m(self, *args, **kwargs)\u001b[0m\n\u001b[1;32m    214\u001b[0m     \u001b[0;32mdef\u001b[0m \u001b[0m__call__\u001b[0m\u001b[0;34m(\u001b[0m\u001b[0mself\u001b[0m\u001b[0;34m,\u001b[0m \u001b[0;34m*\u001b[0m\u001b[0margs\u001b[0m\u001b[0;34m,\u001b[0m \u001b[0;34m**\u001b[0m\u001b[0mkwargs\u001b[0m\u001b[0;34m)\u001b[0m\u001b[0;34m:\u001b[0m\u001b[0;34m\u001b[0m\u001b[0;34m\u001b[0m\u001b[0m\n\u001b[1;32m    215\u001b[0m         \u001b[0;32mwith\u001b[0m \u001b[0mconfig_context\u001b[0m\u001b[0;34m(\u001b[0m\u001b[0;34m**\u001b[0m\u001b[0mself\u001b[0m\u001b[0;34m.\u001b[0m\u001b[0mconfig\u001b[0m\u001b[0;34m)\u001b[0m\u001b[0;34m:\u001b[0m\u001b[0;34m\u001b[0m\u001b[0;34m\u001b[0m\u001b[0m\n\u001b[0;32m--> 216\u001b[0;31m             \u001b[0;32mreturn\u001b[0m \u001b[0mself\u001b[0m\u001b[0;34m.\u001b[0m\u001b[0mfunction\u001b[0m\u001b[0;34m(\u001b[0m\u001b[0;34m*\u001b[0m\u001b[0margs\u001b[0m\u001b[0;34m,\u001b[0m \u001b[0;34m**\u001b[0m\u001b[0mkwargs\u001b[0m\u001b[0;34m)\u001b[0m\u001b[0;34m\u001b[0m\u001b[0;34m\u001b[0m\u001b[0m\n\u001b[0m\u001b[1;32m    217\u001b[0m \u001b[0;34m\u001b[0m\u001b[0m\n\u001b[1;32m    218\u001b[0m \u001b[0;34m\u001b[0m\u001b[0m\n",
            "\u001b[0;32m/usr/local/lib/python3.8/dist-packages/sklearn/model_selection/_validation.py\u001b[0m in \u001b[0;36m_fit_and_score\u001b[0;34m(estimator, X, y, scorer, train, test, verbose, parameters, fit_params, return_train_score, return_parameters, return_n_test_samples, return_times, return_estimator, split_progress, candidate_progress, error_score)\u001b[0m\n\u001b[1;32m    678\u001b[0m             \u001b[0mestimator\u001b[0m\u001b[0;34m.\u001b[0m\u001b[0mfit\u001b[0m\u001b[0;34m(\u001b[0m\u001b[0mX_train\u001b[0m\u001b[0;34m,\u001b[0m \u001b[0;34m**\u001b[0m\u001b[0mfit_params\u001b[0m\u001b[0;34m)\u001b[0m\u001b[0;34m\u001b[0m\u001b[0;34m\u001b[0m\u001b[0m\n\u001b[1;32m    679\u001b[0m         \u001b[0;32melse\u001b[0m\u001b[0;34m:\u001b[0m\u001b[0;34m\u001b[0m\u001b[0;34m\u001b[0m\u001b[0m\n\u001b[0;32m--> 680\u001b[0;31m             \u001b[0mestimator\u001b[0m\u001b[0;34m.\u001b[0m\u001b[0mfit\u001b[0m\u001b[0;34m(\u001b[0m\u001b[0mX_train\u001b[0m\u001b[0;34m,\u001b[0m \u001b[0my_train\u001b[0m\u001b[0;34m,\u001b[0m \u001b[0;34m**\u001b[0m\u001b[0mfit_params\u001b[0m\u001b[0;34m)\u001b[0m\u001b[0;34m\u001b[0m\u001b[0;34m\u001b[0m\u001b[0m\n\u001b[0m\u001b[1;32m    681\u001b[0m \u001b[0;34m\u001b[0m\u001b[0m\n\u001b[1;32m    682\u001b[0m     \u001b[0;32mexcept\u001b[0m \u001b[0mException\u001b[0m\u001b[0;34m:\u001b[0m\u001b[0;34m\u001b[0m\u001b[0;34m\u001b[0m\u001b[0m\n",
            "\u001b[0;32m/usr/local/lib/python3.8/dist-packages/sklearn/linear_model/_logistic.py\u001b[0m in \u001b[0;36mfit\u001b[0;34m(self, X, y, sample_weight)\u001b[0m\n\u001b[1;32m   1587\u001b[0m         \u001b[0;32melse\u001b[0m\u001b[0;34m:\u001b[0m\u001b[0;34m\u001b[0m\u001b[0;34m\u001b[0m\u001b[0m\n\u001b[1;32m   1588\u001b[0m             \u001b[0mprefer\u001b[0m \u001b[0;34m=\u001b[0m \u001b[0;34m\"processes\"\u001b[0m\u001b[0;34m\u001b[0m\u001b[0;34m\u001b[0m\u001b[0m\n\u001b[0;32m-> 1589\u001b[0;31m         fold_coefs_ = Parallel(\n\u001b[0m\u001b[1;32m   1590\u001b[0m             \u001b[0mn_jobs\u001b[0m\u001b[0;34m=\u001b[0m\u001b[0mself\u001b[0m\u001b[0;34m.\u001b[0m\u001b[0mn_jobs\u001b[0m\u001b[0;34m,\u001b[0m\u001b[0;34m\u001b[0m\u001b[0;34m\u001b[0m\u001b[0m\n\u001b[1;32m   1591\u001b[0m             \u001b[0mverbose\u001b[0m\u001b[0;34m=\u001b[0m\u001b[0mself\u001b[0m\u001b[0;34m.\u001b[0m\u001b[0mverbose\u001b[0m\u001b[0;34m,\u001b[0m\u001b[0;34m\u001b[0m\u001b[0;34m\u001b[0m\u001b[0m\n",
            "\u001b[0;32m/usr/local/lib/python3.8/dist-packages/joblib/parallel.py\u001b[0m in \u001b[0;36m__call__\u001b[0;34m(self, iterable)\u001b[0m\n\u001b[1;32m   1083\u001b[0m             \u001b[0;31m# remaining jobs.\u001b[0m\u001b[0;34m\u001b[0m\u001b[0;34m\u001b[0m\u001b[0;34m\u001b[0m\u001b[0m\n\u001b[1;32m   1084\u001b[0m             \u001b[0mself\u001b[0m\u001b[0;34m.\u001b[0m\u001b[0m_iterating\u001b[0m \u001b[0;34m=\u001b[0m \u001b[0;32mFalse\u001b[0m\u001b[0;34m\u001b[0m\u001b[0;34m\u001b[0m\u001b[0m\n\u001b[0;32m-> 1085\u001b[0;31m             \u001b[0;32mif\u001b[0m \u001b[0mself\u001b[0m\u001b[0;34m.\u001b[0m\u001b[0mdispatch_one_batch\u001b[0m\u001b[0;34m(\u001b[0m\u001b[0miterator\u001b[0m\u001b[0;34m)\u001b[0m\u001b[0;34m:\u001b[0m\u001b[0;34m\u001b[0m\u001b[0;34m\u001b[0m\u001b[0m\n\u001b[0m\u001b[1;32m   1086\u001b[0m                 \u001b[0mself\u001b[0m\u001b[0;34m.\u001b[0m\u001b[0m_iterating\u001b[0m \u001b[0;34m=\u001b[0m \u001b[0mself\u001b[0m\u001b[0;34m.\u001b[0m\u001b[0m_original_iterator\u001b[0m \u001b[0;32mis\u001b[0m \u001b[0;32mnot\u001b[0m \u001b[0;32mNone\u001b[0m\u001b[0;34m\u001b[0m\u001b[0;34m\u001b[0m\u001b[0m\n\u001b[1;32m   1087\u001b[0m \u001b[0;34m\u001b[0m\u001b[0m\n",
            "\u001b[0;32m/usr/local/lib/python3.8/dist-packages/joblib/parallel.py\u001b[0m in \u001b[0;36mdispatch_one_batch\u001b[0;34m(self, iterator)\u001b[0m\n\u001b[1;32m    899\u001b[0m                 \u001b[0;32mreturn\u001b[0m \u001b[0;32mFalse\u001b[0m\u001b[0;34m\u001b[0m\u001b[0;34m\u001b[0m\u001b[0m\n\u001b[1;32m    900\u001b[0m             \u001b[0;32melse\u001b[0m\u001b[0;34m:\u001b[0m\u001b[0;34m\u001b[0m\u001b[0;34m\u001b[0m\u001b[0m\n\u001b[0;32m--> 901\u001b[0;31m                 \u001b[0mself\u001b[0m\u001b[0;34m.\u001b[0m\u001b[0m_dispatch\u001b[0m\u001b[0;34m(\u001b[0m\u001b[0mtasks\u001b[0m\u001b[0;34m)\u001b[0m\u001b[0;34m\u001b[0m\u001b[0;34m\u001b[0m\u001b[0m\n\u001b[0m\u001b[1;32m    902\u001b[0m                 \u001b[0;32mreturn\u001b[0m \u001b[0;32mTrue\u001b[0m\u001b[0;34m\u001b[0m\u001b[0;34m\u001b[0m\u001b[0m\n\u001b[1;32m    903\u001b[0m \u001b[0;34m\u001b[0m\u001b[0m\n",
            "\u001b[0;32m/usr/local/lib/python3.8/dist-packages/joblib/parallel.py\u001b[0m in \u001b[0;36m_dispatch\u001b[0;34m(self, batch)\u001b[0m\n\u001b[1;32m    817\u001b[0m         \u001b[0;32mwith\u001b[0m \u001b[0mself\u001b[0m\u001b[0;34m.\u001b[0m\u001b[0m_lock\u001b[0m\u001b[0;34m:\u001b[0m\u001b[0;34m\u001b[0m\u001b[0;34m\u001b[0m\u001b[0m\n\u001b[1;32m    818\u001b[0m             \u001b[0mjob_idx\u001b[0m \u001b[0;34m=\u001b[0m \u001b[0mlen\u001b[0m\u001b[0;34m(\u001b[0m\u001b[0mself\u001b[0m\u001b[0;34m.\u001b[0m\u001b[0m_jobs\u001b[0m\u001b[0;34m)\u001b[0m\u001b[0;34m\u001b[0m\u001b[0;34m\u001b[0m\u001b[0m\n\u001b[0;32m--> 819\u001b[0;31m             \u001b[0mjob\u001b[0m \u001b[0;34m=\u001b[0m \u001b[0mself\u001b[0m\u001b[0;34m.\u001b[0m\u001b[0m_backend\u001b[0m\u001b[0;34m.\u001b[0m\u001b[0mapply_async\u001b[0m\u001b[0;34m(\u001b[0m\u001b[0mbatch\u001b[0m\u001b[0;34m,\u001b[0m \u001b[0mcallback\u001b[0m\u001b[0;34m=\u001b[0m\u001b[0mcb\u001b[0m\u001b[0;34m)\u001b[0m\u001b[0;34m\u001b[0m\u001b[0;34m\u001b[0m\u001b[0m\n\u001b[0m\u001b[1;32m    820\u001b[0m             \u001b[0;31m# A job can complete so quickly than its callback is\u001b[0m\u001b[0;34m\u001b[0m\u001b[0;34m\u001b[0m\u001b[0;34m\u001b[0m\u001b[0m\n\u001b[1;32m    821\u001b[0m             \u001b[0;31m# called before we get here, causing self._jobs to\u001b[0m\u001b[0;34m\u001b[0m\u001b[0;34m\u001b[0m\u001b[0;34m\u001b[0m\u001b[0m\n",
            "\u001b[0;32m/usr/local/lib/python3.8/dist-packages/joblib/_parallel_backends.py\u001b[0m in \u001b[0;36mapply_async\u001b[0;34m(self, func, callback)\u001b[0m\n\u001b[1;32m    206\u001b[0m     \u001b[0;32mdef\u001b[0m \u001b[0mapply_async\u001b[0m\u001b[0;34m(\u001b[0m\u001b[0mself\u001b[0m\u001b[0;34m,\u001b[0m \u001b[0mfunc\u001b[0m\u001b[0;34m,\u001b[0m \u001b[0mcallback\u001b[0m\u001b[0;34m=\u001b[0m\u001b[0;32mNone\u001b[0m\u001b[0;34m)\u001b[0m\u001b[0;34m:\u001b[0m\u001b[0;34m\u001b[0m\u001b[0;34m\u001b[0m\u001b[0m\n\u001b[1;32m    207\u001b[0m         \u001b[0;34m\"\"\"Schedule a func to be run\"\"\"\u001b[0m\u001b[0;34m\u001b[0m\u001b[0;34m\u001b[0m\u001b[0m\n\u001b[0;32m--> 208\u001b[0;31m         \u001b[0mresult\u001b[0m \u001b[0;34m=\u001b[0m \u001b[0mImmediateResult\u001b[0m\u001b[0;34m(\u001b[0m\u001b[0mfunc\u001b[0m\u001b[0;34m)\u001b[0m\u001b[0;34m\u001b[0m\u001b[0;34m\u001b[0m\u001b[0m\n\u001b[0m\u001b[1;32m    209\u001b[0m         \u001b[0;32mif\u001b[0m \u001b[0mcallback\u001b[0m\u001b[0;34m:\u001b[0m\u001b[0;34m\u001b[0m\u001b[0;34m\u001b[0m\u001b[0m\n\u001b[1;32m    210\u001b[0m             \u001b[0mcallback\u001b[0m\u001b[0;34m(\u001b[0m\u001b[0mresult\u001b[0m\u001b[0;34m)\u001b[0m\u001b[0;34m\u001b[0m\u001b[0;34m\u001b[0m\u001b[0m\n",
            "\u001b[0;32m/usr/local/lib/python3.8/dist-packages/joblib/_parallel_backends.py\u001b[0m in \u001b[0;36m__init__\u001b[0;34m(self, batch)\u001b[0m\n\u001b[1;32m    595\u001b[0m         \u001b[0;31m# Don't delay the application, to avoid keeping the input\u001b[0m\u001b[0;34m\u001b[0m\u001b[0;34m\u001b[0m\u001b[0;34m\u001b[0m\u001b[0m\n\u001b[1;32m    596\u001b[0m         \u001b[0;31m# arguments in memory\u001b[0m\u001b[0;34m\u001b[0m\u001b[0;34m\u001b[0m\u001b[0;34m\u001b[0m\u001b[0m\n\u001b[0;32m--> 597\u001b[0;31m         \u001b[0mself\u001b[0m\u001b[0;34m.\u001b[0m\u001b[0mresults\u001b[0m \u001b[0;34m=\u001b[0m \u001b[0mbatch\u001b[0m\u001b[0;34m(\u001b[0m\u001b[0;34m)\u001b[0m\u001b[0;34m\u001b[0m\u001b[0;34m\u001b[0m\u001b[0m\n\u001b[0m\u001b[1;32m    598\u001b[0m \u001b[0;34m\u001b[0m\u001b[0m\n\u001b[1;32m    599\u001b[0m     \u001b[0;32mdef\u001b[0m \u001b[0mget\u001b[0m\u001b[0;34m(\u001b[0m\u001b[0mself\u001b[0m\u001b[0;34m)\u001b[0m\u001b[0;34m:\u001b[0m\u001b[0;34m\u001b[0m\u001b[0;34m\u001b[0m\u001b[0m\n",
            "\u001b[0;32m/usr/local/lib/python3.8/dist-packages/joblib/parallel.py\u001b[0m in \u001b[0;36m__call__\u001b[0;34m(self)\u001b[0m\n\u001b[1;32m    286\u001b[0m         \u001b[0;31m# change the default number of processes to -1\u001b[0m\u001b[0;34m\u001b[0m\u001b[0;34m\u001b[0m\u001b[0;34m\u001b[0m\u001b[0m\n\u001b[1;32m    287\u001b[0m         \u001b[0;32mwith\u001b[0m \u001b[0mparallel_backend\u001b[0m\u001b[0;34m(\u001b[0m\u001b[0mself\u001b[0m\u001b[0;34m.\u001b[0m\u001b[0m_backend\u001b[0m\u001b[0;34m,\u001b[0m \u001b[0mn_jobs\u001b[0m\u001b[0;34m=\u001b[0m\u001b[0mself\u001b[0m\u001b[0;34m.\u001b[0m\u001b[0m_n_jobs\u001b[0m\u001b[0;34m)\u001b[0m\u001b[0;34m:\u001b[0m\u001b[0;34m\u001b[0m\u001b[0;34m\u001b[0m\u001b[0m\n\u001b[0;32m--> 288\u001b[0;31m             return [func(*args, **kwargs)\n\u001b[0m\u001b[1;32m    289\u001b[0m                     for func, args, kwargs in self.items]\n\u001b[1;32m    290\u001b[0m \u001b[0;34m\u001b[0m\u001b[0m\n",
            "\u001b[0;32m/usr/local/lib/python3.8/dist-packages/joblib/parallel.py\u001b[0m in \u001b[0;36m<listcomp>\u001b[0;34m(.0)\u001b[0m\n\u001b[1;32m    286\u001b[0m         \u001b[0;31m# change the default number of processes to -1\u001b[0m\u001b[0;34m\u001b[0m\u001b[0;34m\u001b[0m\u001b[0;34m\u001b[0m\u001b[0m\n\u001b[1;32m    287\u001b[0m         \u001b[0;32mwith\u001b[0m \u001b[0mparallel_backend\u001b[0m\u001b[0;34m(\u001b[0m\u001b[0mself\u001b[0m\u001b[0;34m.\u001b[0m\u001b[0m_backend\u001b[0m\u001b[0;34m,\u001b[0m \u001b[0mn_jobs\u001b[0m\u001b[0;34m=\u001b[0m\u001b[0mself\u001b[0m\u001b[0;34m.\u001b[0m\u001b[0m_n_jobs\u001b[0m\u001b[0;34m)\u001b[0m\u001b[0;34m:\u001b[0m\u001b[0;34m\u001b[0m\u001b[0;34m\u001b[0m\u001b[0m\n\u001b[0;32m--> 288\u001b[0;31m             return [func(*args, **kwargs)\n\u001b[0m\u001b[1;32m    289\u001b[0m                     for func, args, kwargs in self.items]\n\u001b[1;32m    290\u001b[0m \u001b[0;34m\u001b[0m\u001b[0m\n",
            "\u001b[0;32m/usr/local/lib/python3.8/dist-packages/sklearn/utils/fixes.py\u001b[0m in \u001b[0;36m__call__\u001b[0;34m(self, *args, **kwargs)\u001b[0m\n\u001b[1;32m    214\u001b[0m     \u001b[0;32mdef\u001b[0m \u001b[0m__call__\u001b[0m\u001b[0;34m(\u001b[0m\u001b[0mself\u001b[0m\u001b[0;34m,\u001b[0m \u001b[0;34m*\u001b[0m\u001b[0margs\u001b[0m\u001b[0;34m,\u001b[0m \u001b[0;34m**\u001b[0m\u001b[0mkwargs\u001b[0m\u001b[0;34m)\u001b[0m\u001b[0;34m:\u001b[0m\u001b[0;34m\u001b[0m\u001b[0;34m\u001b[0m\u001b[0m\n\u001b[1;32m    215\u001b[0m         \u001b[0;32mwith\u001b[0m \u001b[0mconfig_context\u001b[0m\u001b[0;34m(\u001b[0m\u001b[0;34m**\u001b[0m\u001b[0mself\u001b[0m\u001b[0;34m.\u001b[0m\u001b[0mconfig\u001b[0m\u001b[0;34m)\u001b[0m\u001b[0;34m:\u001b[0m\u001b[0;34m\u001b[0m\u001b[0;34m\u001b[0m\u001b[0m\n\u001b[0;32m--> 216\u001b[0;31m             \u001b[0;32mreturn\u001b[0m \u001b[0mself\u001b[0m\u001b[0;34m.\u001b[0m\u001b[0mfunction\u001b[0m\u001b[0;34m(\u001b[0m\u001b[0;34m*\u001b[0m\u001b[0margs\u001b[0m\u001b[0;34m,\u001b[0m \u001b[0;34m**\u001b[0m\u001b[0mkwargs\u001b[0m\u001b[0;34m)\u001b[0m\u001b[0;34m\u001b[0m\u001b[0;34m\u001b[0m\u001b[0m\n\u001b[0m\u001b[1;32m    217\u001b[0m \u001b[0;34m\u001b[0m\u001b[0m\n\u001b[1;32m    218\u001b[0m \u001b[0;34m\u001b[0m\u001b[0m\n",
            "\u001b[0;32m/usr/local/lib/python3.8/dist-packages/sklearn/linear_model/_logistic.py\u001b[0m in \u001b[0;36m_logistic_regression_path\u001b[0;34m(X, y, pos_class, Cs, fit_intercept, max_iter, tol, verbose, solver, coef, class_weight, dual, penalty, intercept_scaling, multi_class, random_state, check_input, max_squared_sum, sample_weight, l1_ratio)\u001b[0m\n\u001b[1;32m    804\u001b[0m                 \u001b[0mnp\u001b[0m\u001b[0;34m.\u001b[0m\u001b[0msearchsorted\u001b[0m\u001b[0;34m(\u001b[0m\u001b[0mnp\u001b[0m\u001b[0;34m.\u001b[0m\u001b[0marray\u001b[0m\u001b[0;34m(\u001b[0m\u001b[0;34m[\u001b[0m\u001b[0;36m0\u001b[0m\u001b[0;34m,\u001b[0m \u001b[0;36m1\u001b[0m\u001b[0;34m,\u001b[0m \u001b[0;36m2\u001b[0m\u001b[0;34m,\u001b[0m \u001b[0;36m3\u001b[0m\u001b[0;34m]\u001b[0m\u001b[0;34m)\u001b[0m\u001b[0;34m,\u001b[0m \u001b[0mverbose\u001b[0m\u001b[0;34m)\u001b[0m\u001b[0;34m\u001b[0m\u001b[0;34m\u001b[0m\u001b[0m\n\u001b[1;32m    805\u001b[0m             ]\n\u001b[0;32m--> 806\u001b[0;31m             opt_res = optimize.minimize(\n\u001b[0m\u001b[1;32m    807\u001b[0m                 \u001b[0mfunc\u001b[0m\u001b[0;34m,\u001b[0m\u001b[0;34m\u001b[0m\u001b[0;34m\u001b[0m\u001b[0m\n\u001b[1;32m    808\u001b[0m                 \u001b[0mw0\u001b[0m\u001b[0;34m,\u001b[0m\u001b[0;34m\u001b[0m\u001b[0;34m\u001b[0m\u001b[0m\n",
            "\u001b[0;32m/usr/local/lib/python3.8/dist-packages/scipy/optimize/_minimize.py\u001b[0m in \u001b[0;36mminimize\u001b[0;34m(fun, x0, args, method, jac, hess, hessp, bounds, constraints, tol, callback, options)\u001b[0m\n\u001b[1;32m    621\u001b[0m                                   **options)\n\u001b[1;32m    622\u001b[0m     \u001b[0;32melif\u001b[0m \u001b[0mmeth\u001b[0m \u001b[0;34m==\u001b[0m \u001b[0;34m'l-bfgs-b'\u001b[0m\u001b[0;34m:\u001b[0m\u001b[0;34m\u001b[0m\u001b[0;34m\u001b[0m\u001b[0m\n\u001b[0;32m--> 623\u001b[0;31m         return _minimize_lbfgsb(fun, x0, args, jac, bounds,\n\u001b[0m\u001b[1;32m    624\u001b[0m                                 callback=callback, **options)\n\u001b[1;32m    625\u001b[0m     \u001b[0;32melif\u001b[0m \u001b[0mmeth\u001b[0m \u001b[0;34m==\u001b[0m \u001b[0;34m'tnc'\u001b[0m\u001b[0;34m:\u001b[0m\u001b[0;34m\u001b[0m\u001b[0;34m\u001b[0m\u001b[0m\n",
            "\u001b[0;32m/usr/local/lib/python3.8/dist-packages/scipy/optimize/lbfgsb.py\u001b[0m in \u001b[0;36m_minimize_lbfgsb\u001b[0;34m(fun, x0, args, jac, bounds, disp, maxcor, ftol, gtol, eps, maxfun, maxiter, iprint, callback, maxls, finite_diff_rel_step, **unknown_options)\u001b[0m\n\u001b[1;32m    358\u001b[0m             \u001b[0;31m# until the completion of the current minimization iteration.\u001b[0m\u001b[0;34m\u001b[0m\u001b[0;34m\u001b[0m\u001b[0;34m\u001b[0m\u001b[0m\n\u001b[1;32m    359\u001b[0m             \u001b[0;31m# Overwrite f and g:\u001b[0m\u001b[0;34m\u001b[0m\u001b[0;34m\u001b[0m\u001b[0;34m\u001b[0m\u001b[0m\n\u001b[0;32m--> 360\u001b[0;31m             \u001b[0mf\u001b[0m\u001b[0;34m,\u001b[0m \u001b[0mg\u001b[0m \u001b[0;34m=\u001b[0m \u001b[0mfunc_and_grad\u001b[0m\u001b[0;34m(\u001b[0m\u001b[0mx\u001b[0m\u001b[0;34m)\u001b[0m\u001b[0;34m\u001b[0m\u001b[0;34m\u001b[0m\u001b[0m\n\u001b[0m\u001b[1;32m    361\u001b[0m         \u001b[0;32melif\u001b[0m \u001b[0mtask_str\u001b[0m\u001b[0;34m.\u001b[0m\u001b[0mstartswith\u001b[0m\u001b[0;34m(\u001b[0m\u001b[0;34mb'NEW_X'\u001b[0m\u001b[0;34m)\u001b[0m\u001b[0;34m:\u001b[0m\u001b[0;34m\u001b[0m\u001b[0;34m\u001b[0m\u001b[0m\n\u001b[1;32m    362\u001b[0m             \u001b[0;31m# new iteration\u001b[0m\u001b[0;34m\u001b[0m\u001b[0;34m\u001b[0m\u001b[0;34m\u001b[0m\u001b[0m\n",
            "\u001b[0;32m/usr/local/lib/python3.8/dist-packages/scipy/optimize/_differentiable_functions.py\u001b[0m in \u001b[0;36mfun_and_grad\u001b[0;34m(self, x)\u001b[0m\n\u001b[1;32m    265\u001b[0m         \u001b[0;32mif\u001b[0m \u001b[0;32mnot\u001b[0m \u001b[0mnp\u001b[0m\u001b[0;34m.\u001b[0m\u001b[0marray_equal\u001b[0m\u001b[0;34m(\u001b[0m\u001b[0mx\u001b[0m\u001b[0;34m,\u001b[0m \u001b[0mself\u001b[0m\u001b[0;34m.\u001b[0m\u001b[0mx\u001b[0m\u001b[0;34m)\u001b[0m\u001b[0;34m:\u001b[0m\u001b[0;34m\u001b[0m\u001b[0;34m\u001b[0m\u001b[0m\n\u001b[1;32m    266\u001b[0m             \u001b[0mself\u001b[0m\u001b[0;34m.\u001b[0m\u001b[0m_update_x_impl\u001b[0m\u001b[0;34m(\u001b[0m\u001b[0mx\u001b[0m\u001b[0;34m)\u001b[0m\u001b[0;34m\u001b[0m\u001b[0;34m\u001b[0m\u001b[0m\n\u001b[0;32m--> 267\u001b[0;31m         \u001b[0mself\u001b[0m\u001b[0;34m.\u001b[0m\u001b[0m_update_fun\u001b[0m\u001b[0;34m(\u001b[0m\u001b[0;34m)\u001b[0m\u001b[0;34m\u001b[0m\u001b[0;34m\u001b[0m\u001b[0m\n\u001b[0m\u001b[1;32m    268\u001b[0m         \u001b[0mself\u001b[0m\u001b[0;34m.\u001b[0m\u001b[0m_update_grad\u001b[0m\u001b[0;34m(\u001b[0m\u001b[0;34m)\u001b[0m\u001b[0;34m\u001b[0m\u001b[0;34m\u001b[0m\u001b[0m\n\u001b[1;32m    269\u001b[0m         \u001b[0;32mreturn\u001b[0m \u001b[0mself\u001b[0m\u001b[0;34m.\u001b[0m\u001b[0mf\u001b[0m\u001b[0;34m,\u001b[0m \u001b[0mself\u001b[0m\u001b[0;34m.\u001b[0m\u001b[0mg\u001b[0m\u001b[0;34m\u001b[0m\u001b[0;34m\u001b[0m\u001b[0m\n",
            "\u001b[0;32m/usr/local/lib/python3.8/dist-packages/scipy/optimize/_differentiable_functions.py\u001b[0m in \u001b[0;36m_update_fun\u001b[0;34m(self)\u001b[0m\n\u001b[1;32m    231\u001b[0m     \u001b[0;32mdef\u001b[0m \u001b[0m_update_fun\u001b[0m\u001b[0;34m(\u001b[0m\u001b[0mself\u001b[0m\u001b[0;34m)\u001b[0m\u001b[0;34m:\u001b[0m\u001b[0;34m\u001b[0m\u001b[0;34m\u001b[0m\u001b[0m\n\u001b[1;32m    232\u001b[0m         \u001b[0;32mif\u001b[0m \u001b[0;32mnot\u001b[0m \u001b[0mself\u001b[0m\u001b[0;34m.\u001b[0m\u001b[0mf_updated\u001b[0m\u001b[0;34m:\u001b[0m\u001b[0;34m\u001b[0m\u001b[0;34m\u001b[0m\u001b[0m\n\u001b[0;32m--> 233\u001b[0;31m             \u001b[0mself\u001b[0m\u001b[0;34m.\u001b[0m\u001b[0m_update_fun_impl\u001b[0m\u001b[0;34m(\u001b[0m\u001b[0;34m)\u001b[0m\u001b[0;34m\u001b[0m\u001b[0;34m\u001b[0m\u001b[0m\n\u001b[0m\u001b[1;32m    234\u001b[0m             \u001b[0mself\u001b[0m\u001b[0;34m.\u001b[0m\u001b[0mf_updated\u001b[0m \u001b[0;34m=\u001b[0m \u001b[0;32mTrue\u001b[0m\u001b[0;34m\u001b[0m\u001b[0;34m\u001b[0m\u001b[0m\n\u001b[1;32m    235\u001b[0m \u001b[0;34m\u001b[0m\u001b[0m\n",
            "\u001b[0;32m/usr/local/lib/python3.8/dist-packages/scipy/optimize/_differentiable_functions.py\u001b[0m in \u001b[0;36mupdate_fun\u001b[0;34m()\u001b[0m\n\u001b[1;32m    135\u001b[0m \u001b[0;34m\u001b[0m\u001b[0m\n\u001b[1;32m    136\u001b[0m         \u001b[0;32mdef\u001b[0m \u001b[0mupdate_fun\u001b[0m\u001b[0;34m(\u001b[0m\u001b[0;34m)\u001b[0m\u001b[0;34m:\u001b[0m\u001b[0;34m\u001b[0m\u001b[0;34m\u001b[0m\u001b[0m\n\u001b[0;32m--> 137\u001b[0;31m             \u001b[0mself\u001b[0m\u001b[0;34m.\u001b[0m\u001b[0mf\u001b[0m \u001b[0;34m=\u001b[0m \u001b[0mfun_wrapped\u001b[0m\u001b[0;34m(\u001b[0m\u001b[0mself\u001b[0m\u001b[0;34m.\u001b[0m\u001b[0mx\u001b[0m\u001b[0;34m)\u001b[0m\u001b[0;34m\u001b[0m\u001b[0;34m\u001b[0m\u001b[0m\n\u001b[0m\u001b[1;32m    138\u001b[0m \u001b[0;34m\u001b[0m\u001b[0m\n\u001b[1;32m    139\u001b[0m         \u001b[0mself\u001b[0m\u001b[0;34m.\u001b[0m\u001b[0m_update_fun_impl\u001b[0m \u001b[0;34m=\u001b[0m \u001b[0mupdate_fun\u001b[0m\u001b[0;34m\u001b[0m\u001b[0;34m\u001b[0m\u001b[0m\n",
            "\u001b[0;32m/usr/local/lib/python3.8/dist-packages/scipy/optimize/_differentiable_functions.py\u001b[0m in \u001b[0;36mfun_wrapped\u001b[0;34m(x)\u001b[0m\n\u001b[1;32m    132\u001b[0m             \u001b[0;31m# Overwriting results in undefined behaviour because\u001b[0m\u001b[0;34m\u001b[0m\u001b[0;34m\u001b[0m\u001b[0;34m\u001b[0m\u001b[0m\n\u001b[1;32m    133\u001b[0m             \u001b[0;31m# fun(self.x) will change self.x, with the two no longer linked.\u001b[0m\u001b[0;34m\u001b[0m\u001b[0;34m\u001b[0m\u001b[0;34m\u001b[0m\u001b[0m\n\u001b[0;32m--> 134\u001b[0;31m             \u001b[0;32mreturn\u001b[0m \u001b[0mfun\u001b[0m\u001b[0;34m(\u001b[0m\u001b[0mnp\u001b[0m\u001b[0;34m.\u001b[0m\u001b[0mcopy\u001b[0m\u001b[0;34m(\u001b[0m\u001b[0mx\u001b[0m\u001b[0;34m)\u001b[0m\u001b[0;34m,\u001b[0m \u001b[0;34m*\u001b[0m\u001b[0margs\u001b[0m\u001b[0;34m)\u001b[0m\u001b[0;34m\u001b[0m\u001b[0;34m\u001b[0m\u001b[0m\n\u001b[0m\u001b[1;32m    135\u001b[0m \u001b[0;34m\u001b[0m\u001b[0m\n\u001b[1;32m    136\u001b[0m         \u001b[0;32mdef\u001b[0m \u001b[0mupdate_fun\u001b[0m\u001b[0;34m(\u001b[0m\u001b[0;34m)\u001b[0m\u001b[0;34m:\u001b[0m\u001b[0;34m\u001b[0m\u001b[0;34m\u001b[0m\u001b[0m\n",
            "\u001b[0;32m/usr/local/lib/python3.8/dist-packages/scipy/optimize/optimize.py\u001b[0m in \u001b[0;36m__call__\u001b[0;34m(self, x, *args)\u001b[0m\n\u001b[1;32m     72\u001b[0m     \u001b[0;32mdef\u001b[0m \u001b[0m__call__\u001b[0m\u001b[0;34m(\u001b[0m\u001b[0mself\u001b[0m\u001b[0;34m,\u001b[0m \u001b[0mx\u001b[0m\u001b[0;34m,\u001b[0m \u001b[0;34m*\u001b[0m\u001b[0margs\u001b[0m\u001b[0;34m)\u001b[0m\u001b[0;34m:\u001b[0m\u001b[0;34m\u001b[0m\u001b[0;34m\u001b[0m\u001b[0m\n\u001b[1;32m     73\u001b[0m         \u001b[0;34m\"\"\" returns the the function value \"\"\"\u001b[0m\u001b[0;34m\u001b[0m\u001b[0;34m\u001b[0m\u001b[0m\n\u001b[0;32m---> 74\u001b[0;31m         \u001b[0mself\u001b[0m\u001b[0;34m.\u001b[0m\u001b[0m_compute_if_needed\u001b[0m\u001b[0;34m(\u001b[0m\u001b[0mx\u001b[0m\u001b[0;34m,\u001b[0m \u001b[0;34m*\u001b[0m\u001b[0margs\u001b[0m\u001b[0;34m)\u001b[0m\u001b[0;34m\u001b[0m\u001b[0;34m\u001b[0m\u001b[0m\n\u001b[0m\u001b[1;32m     75\u001b[0m         \u001b[0;32mreturn\u001b[0m \u001b[0mself\u001b[0m\u001b[0;34m.\u001b[0m\u001b[0m_value\u001b[0m\u001b[0;34m\u001b[0m\u001b[0;34m\u001b[0m\u001b[0m\n\u001b[1;32m     76\u001b[0m \u001b[0;34m\u001b[0m\u001b[0m\n",
            "\u001b[0;32m/usr/local/lib/python3.8/dist-packages/scipy/optimize/optimize.py\u001b[0m in \u001b[0;36m_compute_if_needed\u001b[0;34m(self, x, *args)\u001b[0m\n\u001b[1;32m     66\u001b[0m         \u001b[0;32mif\u001b[0m \u001b[0;32mnot\u001b[0m \u001b[0mnp\u001b[0m\u001b[0;34m.\u001b[0m\u001b[0mall\u001b[0m\u001b[0;34m(\u001b[0m\u001b[0mx\u001b[0m \u001b[0;34m==\u001b[0m \u001b[0mself\u001b[0m\u001b[0;34m.\u001b[0m\u001b[0mx\u001b[0m\u001b[0;34m)\u001b[0m \u001b[0;32mor\u001b[0m \u001b[0mself\u001b[0m\u001b[0;34m.\u001b[0m\u001b[0m_value\u001b[0m \u001b[0;32mis\u001b[0m \u001b[0;32mNone\u001b[0m \u001b[0;32mor\u001b[0m \u001b[0mself\u001b[0m\u001b[0;34m.\u001b[0m\u001b[0mjac\u001b[0m \u001b[0;32mis\u001b[0m \u001b[0;32mNone\u001b[0m\u001b[0;34m:\u001b[0m\u001b[0;34m\u001b[0m\u001b[0;34m\u001b[0m\u001b[0m\n\u001b[1;32m     67\u001b[0m             \u001b[0mself\u001b[0m\u001b[0;34m.\u001b[0m\u001b[0mx\u001b[0m \u001b[0;34m=\u001b[0m \u001b[0mnp\u001b[0m\u001b[0;34m.\u001b[0m\u001b[0masarray\u001b[0m\u001b[0;34m(\u001b[0m\u001b[0mx\u001b[0m\u001b[0;34m)\u001b[0m\u001b[0;34m.\u001b[0m\u001b[0mcopy\u001b[0m\u001b[0;34m(\u001b[0m\u001b[0;34m)\u001b[0m\u001b[0;34m\u001b[0m\u001b[0;34m\u001b[0m\u001b[0m\n\u001b[0;32m---> 68\u001b[0;31m             \u001b[0mfg\u001b[0m \u001b[0;34m=\u001b[0m \u001b[0mself\u001b[0m\u001b[0;34m.\u001b[0m\u001b[0mfun\u001b[0m\u001b[0;34m(\u001b[0m\u001b[0mx\u001b[0m\u001b[0;34m,\u001b[0m \u001b[0;34m*\u001b[0m\u001b[0margs\u001b[0m\u001b[0;34m)\u001b[0m\u001b[0;34m\u001b[0m\u001b[0;34m\u001b[0m\u001b[0m\n\u001b[0m\u001b[1;32m     69\u001b[0m             \u001b[0mself\u001b[0m\u001b[0;34m.\u001b[0m\u001b[0mjac\u001b[0m \u001b[0;34m=\u001b[0m \u001b[0mfg\u001b[0m\u001b[0;34m[\u001b[0m\u001b[0;36m1\u001b[0m\u001b[0;34m]\u001b[0m\u001b[0;34m\u001b[0m\u001b[0;34m\u001b[0m\u001b[0m\n\u001b[1;32m     70\u001b[0m             \u001b[0mself\u001b[0m\u001b[0;34m.\u001b[0m\u001b[0m_value\u001b[0m \u001b[0;34m=\u001b[0m \u001b[0mfg\u001b[0m\u001b[0;34m[\u001b[0m\u001b[0;36m0\u001b[0m\u001b[0;34m]\u001b[0m\u001b[0;34m\u001b[0m\u001b[0;34m\u001b[0m\u001b[0m\n",
            "\u001b[0;32m/usr/local/lib/python3.8/dist-packages/sklearn/linear_model/_logistic.py\u001b[0m in \u001b[0;36m_logistic_loss_and_grad\u001b[0;34m(w, X, y, alpha, sample_weight)\u001b[0m\n\u001b[1;32m    114\u001b[0m     \u001b[0mgrad\u001b[0m \u001b[0;34m=\u001b[0m \u001b[0mnp\u001b[0m\u001b[0;34m.\u001b[0m\u001b[0mempty_like\u001b[0m\u001b[0;34m(\u001b[0m\u001b[0mw\u001b[0m\u001b[0;34m)\u001b[0m\u001b[0;34m\u001b[0m\u001b[0;34m\u001b[0m\u001b[0m\n\u001b[1;32m    115\u001b[0m \u001b[0;34m\u001b[0m\u001b[0m\n\u001b[0;32m--> 116\u001b[0;31m     \u001b[0mw\u001b[0m\u001b[0;34m,\u001b[0m \u001b[0mc\u001b[0m\u001b[0;34m,\u001b[0m \u001b[0myz\u001b[0m \u001b[0;34m=\u001b[0m \u001b[0m_intercept_dot\u001b[0m\u001b[0;34m(\u001b[0m\u001b[0mw\u001b[0m\u001b[0;34m,\u001b[0m \u001b[0mX\u001b[0m\u001b[0;34m,\u001b[0m \u001b[0my\u001b[0m\u001b[0;34m)\u001b[0m\u001b[0;34m\u001b[0m\u001b[0;34m\u001b[0m\u001b[0m\n\u001b[0m\u001b[1;32m    117\u001b[0m \u001b[0;34m\u001b[0m\u001b[0m\n\u001b[1;32m    118\u001b[0m     \u001b[0;32mif\u001b[0m \u001b[0msample_weight\u001b[0m \u001b[0;32mis\u001b[0m \u001b[0;32mNone\u001b[0m\u001b[0;34m:\u001b[0m\u001b[0;34m\u001b[0m\u001b[0;34m\u001b[0m\u001b[0m\n",
            "\u001b[0;32m/usr/local/lib/python3.8/dist-packages/sklearn/linear_model/_logistic.py\u001b[0m in \u001b[0;36m_intercept_dot\u001b[0;34m(w, X, y)\u001b[0m\n\u001b[1;32m     77\u001b[0m         \u001b[0mw\u001b[0m \u001b[0;34m=\u001b[0m \u001b[0mw\u001b[0m\u001b[0;34m[\u001b[0m\u001b[0;34m:\u001b[0m\u001b[0;34m-\u001b[0m\u001b[0;36m1\u001b[0m\u001b[0;34m]\u001b[0m\u001b[0;34m\u001b[0m\u001b[0;34m\u001b[0m\u001b[0m\n\u001b[1;32m     78\u001b[0m \u001b[0;34m\u001b[0m\u001b[0m\n\u001b[0;32m---> 79\u001b[0;31m     \u001b[0mz\u001b[0m \u001b[0;34m=\u001b[0m \u001b[0msafe_sparse_dot\u001b[0m\u001b[0;34m(\u001b[0m\u001b[0mX\u001b[0m\u001b[0;34m,\u001b[0m \u001b[0mw\u001b[0m\u001b[0;34m)\u001b[0m \u001b[0;34m+\u001b[0m \u001b[0mc\u001b[0m\u001b[0;34m\u001b[0m\u001b[0;34m\u001b[0m\u001b[0m\n\u001b[0m\u001b[1;32m     80\u001b[0m     \u001b[0myz\u001b[0m \u001b[0;34m=\u001b[0m \u001b[0my\u001b[0m \u001b[0;34m*\u001b[0m \u001b[0mz\u001b[0m\u001b[0;34m\u001b[0m\u001b[0;34m\u001b[0m\u001b[0m\n\u001b[1;32m     81\u001b[0m     \u001b[0;32mreturn\u001b[0m \u001b[0mw\u001b[0m\u001b[0;34m,\u001b[0m \u001b[0mc\u001b[0m\u001b[0;34m,\u001b[0m \u001b[0myz\u001b[0m\u001b[0;34m\u001b[0m\u001b[0;34m\u001b[0m\u001b[0m\n",
            "\u001b[0;32m/usr/local/lib/python3.8/dist-packages/sklearn/utils/extmath.py\u001b[0m in \u001b[0;36msafe_sparse_dot\u001b[0;34m(a, b, dense_output)\u001b[0m\n\u001b[1;32m    151\u001b[0m             \u001b[0mret\u001b[0m \u001b[0;34m=\u001b[0m \u001b[0mnp\u001b[0m\u001b[0;34m.\u001b[0m\u001b[0mdot\u001b[0m\u001b[0;34m(\u001b[0m\u001b[0ma\u001b[0m\u001b[0;34m,\u001b[0m \u001b[0mb\u001b[0m\u001b[0;34m)\u001b[0m\u001b[0;34m\u001b[0m\u001b[0;34m\u001b[0m\u001b[0m\n\u001b[1;32m    152\u001b[0m     \u001b[0;32melse\u001b[0m\u001b[0;34m:\u001b[0m\u001b[0;34m\u001b[0m\u001b[0;34m\u001b[0m\u001b[0m\n\u001b[0;32m--> 153\u001b[0;31m         \u001b[0mret\u001b[0m \u001b[0;34m=\u001b[0m \u001b[0ma\u001b[0m \u001b[0;34m@\u001b[0m \u001b[0mb\u001b[0m\u001b[0;34m\u001b[0m\u001b[0;34m\u001b[0m\u001b[0m\n\u001b[0m\u001b[1;32m    154\u001b[0m \u001b[0;34m\u001b[0m\u001b[0m\n\u001b[1;32m    155\u001b[0m     if (\n",
            "\u001b[0;31mKeyboardInterrupt\u001b[0m: "
          ]
        }
      ],
      "source": [
        "#Pass through selected features\n",
        "\n",
        "#Evaluates the features selected by the above functions\n",
        "X = np.concatenate([cat_selected_features,cont_selected_features],axis=1)\n",
        "y = y\n",
        "\n",
        "#Resample/balance the data\n",
        "sm = SMOTE(random_state = 2022)\n",
        "X_res, y_res = sm.fit_resample(X, y)\n",
        "\n",
        "clf = LogisticRegression(max_iter=2000) # model\n",
        "\n",
        "F1 = my_eval(X_res, y_res, clf, 10) # Run model for f1\n",
        "ROC = my_eval(X_res, y_res, clf, 10, 'roc_auc') # Run model for AUC\n",
        "\n",
        "print(f' F1: {F1[0].round(4)} ROC: {ROC[0].round(4)}') # Print output"
      ]
    },
    {
      "cell_type": "markdown",
      "source": [
        "###Y1"
      ],
      "metadata": {
        "id": "h90771motDt0"
      }
    },
    {
      "cell_type": "code",
      "execution_count": null,
      "metadata": {
        "tags": [],
        "id": "JX0Kfx2loYSP"
      },
      "outputs": [],
      "source": [
        "#Winning combination for Y1\n",
        "\n",
        "### based on many runs of feature selection this was the best ROC\n",
        "X = pd.concat([test,df_cat],axis=1)\\\n",
        "[['C1','neg_word_ratio','pos_word_ratio','T3','S3',\n",
        "'T5','C4','sales_share_ratio','sharesoff_shareout_ratio','bin_EPS']]\n",
        "\n",
        "y = df['Y1'] # set target\n",
        "\n",
        "# resample/balance the data\n",
        "sm = SMOTE(random_state = 2022)\n",
        "X_res, y_res = sm.fit_resample(X, y)\n",
        "\n",
        "clf = LogisticRegression(max_iter=2000) # model\n",
        "\n",
        "F1 = my_eval(X_res, y_res, clf, 10) # run model for f1\n",
        "ROC = my_eval(X_res, y_res, clf, 10, 'roc_auc') # run model for ROC\n",
        "\n",
        "print(X.columns.values)\n",
        "print(f' F1: {F1[0].round(4)} ROC: {ROC[0].round(4)}') # print output"
      ]
    },
    {
      "cell_type": "markdown",
      "source": [
        "###Y2"
      ],
      "metadata": {
        "id": "pkkG03qstFpk"
      }
    },
    {
      "cell_type": "code",
      "execution_count": null,
      "metadata": {
        "tags": [],
        "id": "vXo8S7xIoYSP"
      },
      "outputs": [],
      "source": [
        "#Winning combination for Y2\n",
        "\n",
        "X = pd.concat([test,df_cat],axis=1)\\\n",
        "[['C1', 'C4', 'T3', 'T4', 'T5','S3', 'C5~',\n",
        " 'pos_word_ratio', 'neg_word_ratio',\n",
        "  'sales_share_ratio', 'sharesoff_shareout_ratio',\n",
        "  'C2', 'C3~', 'C6~']]\n",
        "\n",
        "y = df['Y2']\n",
        "\n",
        "sm = SMOTE(random_state = 2022)\n",
        "X_res, y_res = sm.fit_resample(X, y)\n",
        "\n",
        "clf = LogisticRegression(max_iter=2000)\n",
        "\n",
        "F1 = my_eval(X_res, y_res, clf, 10)\n",
        "ROC = my_eval(X_res, y_res, clf, 10, 'roc_auc')\n",
        "\n",
        "print(f' selected features are: {X.columns.values} \\n')\n",
        "print(f' F1: {F1[0].round(4)} ROC: {ROC[0].round(4)}')"
      ]
    },
    {
      "cell_type": "markdown",
      "metadata": {
        "tags": [],
        "id": "KHol0uL3oYSP"
      },
      "source": [
        "##Evaluation Model- Gradient Boosting ⚡"
      ]
    },
    {
      "cell_type": "markdown",
      "source": [
        "To take the modeling a step further, we used the gradient boosting. This model allowed our results to be improved significantly for Y2 and some for Y1."
      ],
      "metadata": {
        "id": "kQfDWZ_1vPze"
      }
    },
    {
      "cell_type": "markdown",
      "source": [
        "###Y1"
      ],
      "metadata": {
        "id": "3P2PBLKRtcNR"
      }
    },
    {
      "cell_type": "code",
      "execution_count": null,
      "metadata": {
        "tags": [],
        "id": "1fze30n3oYSQ"
      },
      "outputs": [],
      "source": [
        "#Boosted winning combination for Y1\n",
        "  #Not significantly better than linear regression\n",
        "\n",
        "X = pd.concat([test,df_cat],axis=1)\\\n",
        "[['C1','neg_word_ratio','pos_word_ratio','T3','S3',\n",
        "'T5','C4','sales_share_ratio','sharesoff_shareout_ratio','bin_EPS']]\n",
        "\n",
        "y = df['Y1']\n",
        "\n",
        "sm = SMOTE(random_state = 2022)\n",
        "X_res, y_res = sm.fit_resample(X, y)\n",
        "\n",
        "clf = GradientBoostingClassifier()\n",
        "\n",
        "F1 = my_eval(X_res, y_res, clf, 10)\n",
        "ROC = my_eval(X_res, y_res, clf, 10, 'roc_auc')\n",
        "\n",
        "print(f' selected features are: {X.columns.values} \\n')\n",
        "\n",
        "print(f' F1: {F1[0].round(4)} ROC: {ROC[0].round(4)}')\n",
        "\n",
        "\n",
        "#Cell takes 8 minutes to run in colab\n",
        "#Results are F1: 0.403 ROC: 0.353"
      ]
    },
    {
      "cell_type": "markdown",
      "source": [
        "###Y2"
      ],
      "metadata": {
        "id": "TSEmIMDgtdwK"
      }
    },
    {
      "cell_type": "code",
      "execution_count": null,
      "metadata": {
        "tags": [],
        "id": "nmpNdRy5oYSQ"
      },
      "outputs": [],
      "source": [
        "#Boosted winning combination for Y2\n",
        "  #Significantly better than linear regression\n",
        "\n",
        "X = pd.concat([test,df_cat],axis=1)\\\n",
        "[['C1', 'C4', 'T3', 'T4', 'T5','S3', 'C5~',\n",
        "  'pos_word_ratio', 'neg_word_ratio', 'sales_share_ratio',\n",
        "  'sharesoff_shareout_ratio', 'C6~']]\n",
        "\n",
        "y = df['Y2']\n",
        "\n",
        "sm = SMOTE(random_state = 2022)\n",
        "X_res, y_res = sm.fit_resample(X, y)\n",
        "\n",
        "clf = GradientBoostingClassifier()\n",
        "\n",
        "F1 = my_eval(X_res, y_res, clf, 10)\n",
        "ROC = my_eval(X_res, y_res, clf, 10, 'roc_auc')\n",
        "\n",
        "print(X.columns.values)\n",
        "print(f' F1: {F1[0].round(4)} ROC: {ROC[0].round(4)}')\n",
        "\n",
        "#Cell takes 13 minutes to run in colab\n",
        "#Results are F1: 0.2803 ROC: 0.2067"
      ]
    },
    {
      "cell_type": "code",
      "source": [
        "pd.concat([test, df_cat, df['Y1'], df['Y2']], axis=1).to_csv('/content/drive/MyDrive/Classroom/DATA 6545: Data Science and MLOps SP2023/Caroline Donovan - Competition1_final_data.csv')"
      ],
      "metadata": {
        "id": "rOKwOM2OEhLM"
      },
      "execution_count": null,
      "outputs": []
    },
    {
      "cell_type": "markdown",
      "source": [
        "#Results/Findings"
      ],
      "metadata": {
        "id": "2MYJ8fsDEPkA"
      }
    },
    {
      "cell_type": "markdown",
      "source": [
        "In order to determine the best process to predict IPO underpricing, we all took on 2 of the 6 different processes. Each of us ran the evaluation code in separate notebooks in order to get an understanding of the results and an idea of how the model would work. After about 10-30 manual runs for each of the processes, we opted to put this code into a loop. In order to see as many results as possible, this was our best option.\n",
        "\n",
        "The loop generated (after 14 hours) 2200 combinations and, therefore, results of the Logistic Regression. From these results, we can infer that Process 3A was the best predictor for both of our targets, Y1 and Y2.  From this point on, we moved forward with only Process 3A.\n",
        "\n",
        "Later in our analysis, we decided to research additional models to boost our results. We decided to try a Gradient Boosting run on Process 3A and the results showed significant improvement. We did not complete this for the 5 processes due to a time constraint on how long the model took to run.\n"
      ],
      "metadata": {
        "id": "GTdC10E4ESUk"
      }
    },
    {
      "cell_type": "markdown",
      "source": [
        "#Other Processes Code"
      ],
      "metadata": {
        "id": "Pr5tV4VvAgZB"
      }
    },
    {
      "cell_type": "markdown",
      "metadata": {
        "tags": [],
        "id": "iJbHj8g4AZXb"
      },
      "source": [
        "##Compare Proccess Results"
      ]
    },
    {
      "cell_type": "markdown",
      "source": [
        "We initially began by manually running all of the 6 suggested processes, but we decided to implement them all into 1 loop\n"
      ],
      "metadata": {
        "id": "HEo-47fXC6c0"
      }
    },
    {
      "cell_type": "code",
      "execution_count": null,
      "metadata": {
        "id": "K12EapyB4bkt"
      },
      "outputs": [],
      "source": [
        "### proccess 1A norm, outlier, scale\n",
        "\n",
        "# df_cont_norm_pro1A = pd.DataFrame()\n",
        "\n",
        "# for col in df_cont.columns:\n",
        "\n",
        "#     data = bcox(df_cont[col])\n",
        "#     data = stdcut(data)\n",
        "#     data = normz(data)\n",
        "#     df_cont_norm_pro1A[col] = data\n"
      ]
    },
    {
      "cell_type": "code",
      "execution_count": null,
      "metadata": {
        "id": "M6Psy8jO4bku"
      },
      "outputs": [],
      "source": [
        "### proccess 1B norm, scale, outlier\n",
        "\n",
        "# df_cont_norm_pro1B = pd.DataFrame()\n",
        "\n",
        "# for col in df_cont.columns:\n",
        "\n",
        "#     data = bcox(df_cont[col])\n",
        "#     data = normz(data)\n",
        "#     data = stdcut(data)\n",
        "#     df_cont_norm_pro1B[col] = data"
      ]
    },
    {
      "cell_type": "code",
      "execution_count": null,
      "metadata": {
        "id": "AFGaaCNiHdPJ",
        "tags": []
      },
      "outputs": [],
      "source": [
        "### proccess 2A OutHand, Scale, Norm\n",
        "\n",
        "# df_cont_norm_pro2A = pd.DataFrame()\n",
        "\n",
        "# for col in df_cont.columns:\n",
        "\n",
        "#     data = iqrcut(df_cont[col])\n",
        "#     data = normminmax(data)\n",
        "#     data = bcox(data)\n",
        "#     df_cont_norm_pro2A[col] = data"
      ]
    },
    {
      "cell_type": "code",
      "execution_count": null,
      "metadata": {
        "id": "b8EvYDJ42oc8",
        "tags": []
      },
      "outputs": [],
      "source": [
        "### proccess 2B OutHand, Scale, Norm\n",
        "\n",
        "# df_cont_norm_pro2B = pd.DataFrame()\n",
        "\n",
        "# for col in df_cont.columns:\n",
        "\n",
        "#     data = normminmax(df_cont[col])\n",
        "#     data = iqrcut(data)\n",
        "#     data = bcox(data)\n",
        "#     df_cont_norm_pro2B[col] = data"
      ]
    },
    {
      "cell_type": "code",
      "execution_count": null,
      "metadata": {
        "id": "jdiAlKmw4bku"
      },
      "outputs": [],
      "source": [
        "### proccess 3A iqr, norm, scale\n",
        "\n",
        "# df_cont_norm_pro3A = pd.DataFrame()\n",
        "\n",
        "# for col in df_cont.columns:\n",
        "\n",
        "#     data = iqrcut(df_cont[col])\n",
        "#     data = bcox(data)\n",
        "#     data = normz(data)\n",
        "#     df_cont_norm_pro3A[col] = data"
      ]
    },
    {
      "cell_type": "code",
      "execution_count": null,
      "metadata": {
        "id": "0BbW-1dz4bkv"
      },
      "outputs": [],
      "source": [
        "### proccess 3b scale, norm, iqr\n",
        "\n",
        "# df_cont_norm_pro3B= pd.DataFrame()\n",
        "\n",
        "# for col in df_cont.columns:\n",
        "\n",
        "#     data = normminmax(df_cont[col])\n",
        "#     data = bcox(data)\n",
        "#     data = stdcut(data)\n",
        "#     df_cont_norm_pro3B[col] = data"
      ]
    },
    {
      "cell_type": "code",
      "execution_count": null,
      "metadata": {
        "id": "SrEGzYz0HdPK",
        "tags": []
      },
      "outputs": [],
      "source": [
        "# results = []\n",
        "# for col in df_cont_norm_pro2A.columns:\n",
        "#     dictresults = {'col' : col,\n",
        "#                    'proccess_1A' : df_cont_norm_pro2A[col].skew().round(3),\n",
        "#                    'proccess_1B' : df_cont_norm_pro2B[col].skew().round(3),\n",
        "#                   'proccess_2B' : df_cont_norm_pro2B[col].skew().round(3),\n",
        "#                   'proccess_2B' : df_cont_norm_pro2B[col].skew().round(3),\n",
        "#                   'proccess_3A' : df_cont_norm_pro2B[col].skew().round(3),\n",
        "#                    'proccess_3B' : df_cont_norm_pro2B[col].skew().round(3)}\n",
        "#     results.append(dictresults)\n",
        "# print('\\n Skews comparison')\n",
        "# pd.DataFrame(results)"
      ]
    },
    {
      "cell_type": "markdown",
      "metadata": {
        "tags": [],
        "id": "5AsxYfSw4bk6"
      },
      "source": [
        "##Force on Code- run in Jupyter Lab"
      ]
    },
    {
      "cell_type": "code",
      "execution_count": null,
      "metadata": {
        "id": "4UaSfLvnHvLT"
      },
      "outputs": [],
      "source": [
        "# use list of indexes to itterate through evaluation code, giving different features per run\n",
        "# builds a df of results\n",
        "\n",
        "def loop(df,target):\n",
        "\n",
        "    start = 0\n",
        "    end = 1\n",
        "    total = len(df.columns)\n",
        "    lstrangestart = []\n",
        "    lstrangeend = []\n",
        "\n",
        "\n",
        "    while start < total:\n",
        "      while end < total:\n",
        "        lstrangestart.append(start)\n",
        "        lstrangeend.append(end)\n",
        "        end+=1\n",
        "      start+=1\n",
        "      end=start+1\n",
        "\n",
        "    ID = []\n",
        "    F1score = []\n",
        "    ROCscore = []\n",
        "    tar = []\n",
        "\n",
        "\n",
        "\n",
        "    for i in list(zip(lstrangestart,lstrangeend)):\n",
        "        clear_output(wait=True)\n",
        "\n",
        "\n",
        "        X = df.iloc[:,i[0]:i[1]] # normal way\n",
        "\n",
        "        y = target\n",
        "\n",
        "        ### y should be binary\n",
        "        assert len(np.unique(y)) == 2\n",
        "\n",
        "        sm = SMOTE(random_state = 2022)\n",
        "        X_res, y_res = sm.fit_resample(X, y)\n",
        "        clf = LogisticRegression(max_iter=2000)\n",
        "\n",
        "        # getting averaged f1_score from 10-fold CV (default)\n",
        "        f1 = my_eval(X_res, y_res, clf, 10)\n",
        "\n",
        "        # getting averaged ROC_AUC from 10-fold CV\n",
        "        roc = my_eval(X_res, y_res, clf, 10, 'roc_auc')\n",
        "\n",
        "        ID.append(df.iloc[:,i[0]:i[1]].columns.values)\n",
        "        F1score.append(f1)\n",
        "        ROCscore.append(roc)\n",
        "        tar.append(target.name)\n",
        "\n",
        "        print(df.iloc[:,i[0]:i[1]].columns.values)\n",
        "        print(f'{i} F1: {f1[0].round(4)} ROC: {roc[0].round(4)}')\n",
        "\n",
        "    results = pd.DataFrame([ID,F1score,ROCscore,tar]).transpose()\n",
        "\n",
        "    results['ID'] = results[0]\n",
        "    results['Target'] = results[3]\n",
        "    results['F1mean'] = results[1].apply(lambda x:x[0])\n",
        "    results['F1std'] = results[1].apply(lambda x:x[1])\n",
        "\n",
        "    results['ROCmean'] = results[2].apply(lambda x:x[0])\n",
        "    results['ROCstd'] = results[2].apply(lambda x:x[1])\n",
        "    results = results.drop([0,1,2,3],axis=1)\n",
        "\n",
        "    return results"
      ]
    },
    {
      "cell_type": "code",
      "execution_count": null,
      "metadata": {
        "tags": [],
        "id": "SPnQDlI64bk7"
      },
      "outputs": [],
      "source": [
        "loop(test1a,df['Y2'])#.to_csv('/Users/eb/Desktop/ML CLASS/comp1/results_1a_y2.csv')\n",
        "# results_1b_y2 = loop(test1b,df['Y2']).to_csv('/Users/eb/Desktop/ML CLASS/comp1/results_1b_y2.csv')\n",
        "\n",
        "# results_1a_y2 = loop(test2a,df['Y2']).to_csv('/Users/eb/Desktop/ML CLASS/comp1/results_2a_y2.csv')\n",
        "# results_2a_y2 = loop(test2b,df['Y2']).to_csv('/Users/eb/Desktop/ML CLASS/comp1/results_2b_y2.csv')\n",
        "\n",
        "# results_2b_y2 = loop(test3a,df['Y2']).to_csv('/Users/eb/Desktop/ML CLASS/comp1/results_3a_y2.csv')\n",
        "# results_3a_y2 = loop(test3b,df['Y2']).to_csv('/Users/eb/Desktop/ML CLASS/comp1/results_3b_y2.csv')"
      ]
    },
    {
      "cell_type": "code",
      "execution_count": null,
      "metadata": {
        "tags": [],
        "id": "nh_tcB9T4bk7"
      },
      "outputs": [],
      "source": [
        "# results_1a_y1 = loop(test1a,df['Y1']).to_csv('/Users/eb/Desktop/ML CLASS/comp1/results_1a_y1.csv')\n",
        "# results_1b_y1 = loop(test1b,df['Y1']).to_csv('/Users/eb/Desktop/ML CLASS/comp1/results_1b_y1.csv')\n",
        "\n",
        "# results_2a_y1 = loop(test2a,df['Y1']).to_csv('/Users/eb/Desktop/ML CLASS/comp1/results_2a_y1.csv')\n",
        "# results_2b_y1 = loop(test2b,df['Y1']).to_csv('/Users/eb/Desktop/ML CLASS/comp1/results_2b_y1.csv')\n",
        "\n",
        "# results_3a_y1 = loop(test3a,df['Y1']).to_csv('/Users/eb/Desktop/ML CLASS/comp1/results_3a_y1.csv')\n",
        "# results_3b_y1 = loop(test3b,df['Y1']).to_csv('/Users/eb/Desktop/ML CLASS/comp1/results_3b_y1.csv')"
      ]
    },
    {
      "cell_type": "code",
      "execution_count": null,
      "metadata": {
        "tags": [],
        "id": "pyrIgpJI4bk8"
      },
      "outputs": [],
      "source": [
        "# all_results = pd.read_csv('/Users/eb/Desktop/ML CLASS/comp1/all_results.csv')"
      ]
    },
    {
      "cell_type": "code",
      "execution_count": null,
      "metadata": {
        "tags": [],
        "id": "u7foJLqb4bk8"
      },
      "outputs": [],
      "source": [
        "# all_results.head()"
      ]
    },
    {
      "cell_type": "code",
      "execution_count": null,
      "metadata": {
        "id": "U2OpGtm_INGA",
        "tags": []
      },
      "outputs": [],
      "source": [
        "# string = open('/Users/eb/Desktop/ML CLASS/comp1/runs.txt','r').readlines()\n",
        "\n",
        "# runs= \"\"\n",
        "# for i in string:\n",
        "#     runs = runs + i.strip()\n",
        "\n",
        "\n",
        "\n",
        "\n",
        "# lst = runs.split('Index')\n",
        "# lst = lst[1:]\n",
        "# ID = []\n",
        "# F1 = []\n",
        "# ROC = []\n",
        "\n",
        "# for i in range(len(lst)):\n",
        "#     ID.append(lst[i].split('f1 = ')[0])\n",
        "#     F1.append(lst[i].split('f1 = ')[1].split('roc = ')[0])\n",
        "#     ROC.append(lst[i].split('f1 = ')[1].split('roc = ')[1])\n",
        "\n",
        "# results = pd.DataFrame([ID,F1,ROC]).transpose()\n",
        "# results"
      ]
    },
    {
      "cell_type": "code",
      "execution_count": null,
      "metadata": {
        "tags": [],
        "id": "jLnAbNc74bk-"
      },
      "outputs": [],
      "source": [
        "# #results['f1mean'] =\n",
        "# results['F1'] = results[1].str.replace('(',\"\").replace(')',\"\").replace(' ',\"\").str.split(',')\n",
        "# results['ROC'] = results[2].str.replace('(',\"\").replace(')',\"\").replace(' ',\"\").str.split(',')"
      ]
    },
    {
      "cell_type": "code",
      "execution_count": null,
      "metadata": {
        "tags": [],
        "id": "DxVQ3wt54bk-"
      },
      "outputs": [],
      "source": [
        "# results['F1mean'] = results['F1'].apply(lambda x:x[0])\n",
        "# results['F1std'] = results['F1'].apply(lambda x:x[1].replace(')',\"\"))\n",
        "\n",
        "# results['ROCmean'] = results['ROC'].apply(lambda x:x[0])\n",
        "# results['ROCstd'] = results['ROC'].apply(lambda x:x[1].replace(')',\"\"))\n",
        "# results = results.drop([1,2,'F1','ROC'],axis=1)"
      ]
    },
    {
      "cell_type": "code",
      "execution_count": null,
      "metadata": {
        "tags": [],
        "id": "ovRb_-9R4bk-"
      },
      "outputs": [],
      "source": [
        "# results['F1mean'] = results['F1mean'].astype(float)\n",
        "# results['F1std'] = results['F1std'].astype(float)\n",
        "# results['ROCmean'] = results['ROCmean'].astype(float)\n",
        "# results['ROCstd'] = results['ROCstd'].astype(float)"
      ]
    },
    {
      "cell_type": "code",
      "execution_count": null,
      "metadata": {
        "tags": [],
        "id": "VnrawVWC4bk-"
      },
      "outputs": [],
      "source": [
        "#results.round(3).sort_values('F1mean',ascending=True)"
      ]
    },
    {
      "cell_type": "code",
      "execution_count": null,
      "metadata": {
        "tags": [],
        "id": "OjTyBqGM4bk_"
      },
      "outputs": [],
      "source": [
        "#results['ID'] = str(results[0].str.replace(\", dtype='object')\",\"\"))"
      ]
    },
    {
      "cell_type": "code",
      "execution_count": null,
      "metadata": {
        "tags": [],
        "id": "74qUKcMC4bk_"
      },
      "outputs": [],
      "source": [
        "#results['ID'] = results[0].apply(lambda x: x[1:(x.find(']')+1)])\n",
        "#results = results.drop(0,axis=1)"
      ]
    },
    {
      "cell_type": "code",
      "execution_count": null,
      "metadata": {
        "tags": [],
        "id": "okGLPePk4bk_"
      },
      "outputs": [],
      "source": [
        "#results = results[['ID','F1mean','F1std','ROCmean','ROCstd']]"
      ]
    },
    {
      "cell_type": "code",
      "execution_count": null,
      "metadata": {
        "tags": [],
        "id": "9vofCYOW4bk_"
      },
      "outputs": [],
      "source": [
        "#results.sort_values('F1mean').to_clipboard()"
      ]
    }
  ],
  "metadata": {
    "colab": {
      "provenance": []
    },
    "kernelspec": {
      "display_name": "Python 3 (ipykernel)",
      "language": "python",
      "name": "python3"
    },
    "language_info": {
      "codemirror_mode": {
        "name": "ipython",
        "version": 3
      },
      "file_extension": ".py",
      "mimetype": "text/x-python",
      "name": "python",
      "nbconvert_exporter": "python",
      "pygments_lexer": "ipython3",
      "version": "3.11.2"
    },
    "toc-autonumbering": false,
    "toc-showmarkdowntxt": false
  },
  "nbformat": 4,
  "nbformat_minor": 0
}